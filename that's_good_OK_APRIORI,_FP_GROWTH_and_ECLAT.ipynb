{
  "nbformat": 4,
  "nbformat_minor": 0,
  "metadata": {
    "colab": {
      "provenance": [],
      "collapsed_sections": [
        "2nwPETTsAgKy",
        "zSaq-Xjn5GJ4",
        "SVtIZ2wo0kco"
      ],
      "authorship_tag": "ABX9TyMeTteYjozUMnf94rDfeDYQ",
      "include_colab_link": true
    },
    "kernelspec": {
      "name": "python3",
      "display_name": "Python 3"
    },
    "language_info": {
      "name": "python"
    }
  },
  "cells": [
    {
      "cell_type": "markdown",
      "metadata": {
        "id": "view-in-github",
        "colab_type": "text"
      },
      "source": [
        "<a href=\"https://colab.research.google.com/github/NicoloAvesani/Mining_Project/blob/main/that's_good_OK_APRIORI%2C_FP_GROWTH_and_ECLAT.ipynb\" target=\"_parent\"><img src=\"https://colab.research.google.com/assets/colab-badge.svg\" alt=\"Open In Colab\"/></a>"
      ]
    },
    {
      "cell_type": "markdown",
      "source": [
        "#Dataset generator\n",
        "https://github.com/jeffheaton/papers/blob/master/2016/ieee-freq-item/GenerateFreqData.py\n"
      ],
      "metadata": {
        "id": "2nwPETTsAgKy"
      }
    },
    {
      "cell_type": "code",
      "source": [
        "# This Python script was used to collect the data for following paper/conference:\n",
        "#\n",
        "# Heaton, J. (2016, April). Comparing Dataset Characteristics that Favor the Apriori, \n",
        "# Eclat or FP-Growth Frequent Itemset Mining Algorithms. In SoutheastCon 2015 (pp. 1-6). IEEE.\n",
        "#\n",
        "# http://www.jeffheaton.com\n",
        "#\n",
        "\n",
        "# Generate benchmark data for frequent itemset mining.\n",
        "__author__ = 'jheaton'\n",
        "import random\n",
        "import csv\n",
        "from tqdm import tqdm\n",
        "\n",
        "def sizeof_fmt(num):\n",
        "    for x in ['','k','m','g']:\n",
        "        if num < 1000.0:\n",
        "            return \"%3.1f%s\" % (num, x)\n",
        "        num /= 1000.0\n",
        "    return \"%3.1f%s\" % (num, 't')\n",
        "\n",
        "def generate_itemset(row_count, max_per_basket, num_freq_sets, item_count, prob_frequent):\n",
        "    '''\n",
        "    Generate a dataset of frequent items. These paramaters can be changed to \n",
        "    determine the type of data to generate.\n",
        "\n",
        "    :param int row_count: The number of rows in the dataset.\n",
        "    :param int max_per_basket: Maximum number of items per basket.\n",
        "    :param int num_freq_sets: The number of unique frequent item sets.\n",
        "    :param int item_count: The number of unique items.\n",
        "    :param float prob_frequent: The probability of a basket containing a frequent itemset.\n",
        "    '''\n",
        "    # Generate the data\n",
        "    pop_frequent = [\"F\"+str(n) for n in range(0,max_per_basket)]\n",
        "    pop_regular = [\"I\"+str(n) for n in range(max_per_basket,item_count)]\n",
        "    freq_itemsets = []\n",
        "\n",
        "    # Create a filename that encodes the max_per_basket and basket_count into\n",
        "    # the filename.\n",
        "    filename = str(prob_frequent)+\"_tsz\" \\\n",
        "        + str(max_per_basket)+'_tct' \\\n",
        "         +sizeof_fmt(row_count)+'.txt'\n",
        "\n",
        "    for i in tqdm(range(num_freq_sets),desc=f\"{filename}:pass 1/2\"):\n",
        "        cnt = random.randint(1,max_per_basket)\n",
        "        freq_itemsets.append(random.sample(pop_frequent,cnt))\n",
        "\n",
        "    with open(filename, 'w') as f:\n",
        "        for i in tqdm(range(row_count),desc=f\"{filename}:pass 2/2\"):\n",
        "            line = []\n",
        "\n",
        "            cnt = random.randint(1,max_per_basket)\n",
        "            if random.random()<=prob_frequent:\n",
        "                idx = random.randint(0,len(freq_itemsets)-1)\n",
        "                for j in range(len(freq_itemsets[idx])):\n",
        "                    line.append(freq_itemsets[idx][j])\n",
        "\n",
        "            needed = max(0,cnt - len(line))\n",
        "            line = line + random.sample(pop_regular,needed)\n",
        "\n",
        "            f.write(\" \".join(line)+\"\\n\")\n",
        "\n",
        "random.seed(1000)\n",
        "ROWS = 100000\n",
        "\n",
        "for i in range(10,100,10):\n",
        "    generate_itemset(ROWS, i, 100, 5000, 0.5)\n",
        "\n",
        "for i in range(1,9,1):\n",
        "    generate_itemset(ROWS, 50, 100, 5000, i/10.0)"
      ],
      "metadata": {
        "id": "MBfjF7BNWjEF",
        "colab": {
          "base_uri": "https://localhost:8080/"
        },
        "outputId": "35d46f75-521f-4ce3-8a90-a76a6555de54"
      },
      "execution_count": 44,
      "outputs": [
        {
          "output_type": "stream",
          "name": "stderr",
          "text": [
            "0.5_tsz10_tct100.0k.txt:pass 1/2: 100%|██████████| 100/100 [00:00<00:00, 104700.55it/s]\n",
            "0.5_tsz10_tct100.0k.txt:pass 2/2: 100%|██████████| 100000/100000 [00:00<00:00, 156129.69it/s]\n",
            "0.5_tsz20_tct100.0k.txt:pass 1/2: 100%|██████████| 100/100 [00:00<00:00, 52051.43it/s]\n",
            "0.5_tsz20_tct100.0k.txt:pass 2/2: 100%|██████████| 100000/100000 [00:00<00:00, 104459.14it/s]\n",
            "0.5_tsz30_tct100.0k.txt:pass 1/2: 100%|██████████| 100/100 [00:00<00:00, 38966.03it/s]\n",
            "0.5_tsz30_tct100.0k.txt:pass 2/2: 100%|██████████| 100000/100000 [00:01<00:00, 84377.46it/s]\n",
            "0.5_tsz40_tct100.0k.txt:pass 1/2: 100%|██████████| 100/100 [00:00<00:00, 38710.70it/s]\n",
            "0.5_tsz40_tct100.0k.txt:pass 2/2: 100%|██████████| 100000/100000 [00:01<00:00, 70051.49it/s]\n",
            "0.5_tsz50_tct100.0k.txt:pass 1/2: 100%|██████████| 100/100 [00:00<00:00, 36879.49it/s]\n",
            "0.5_tsz50_tct100.0k.txt:pass 2/2: 100%|██████████| 100000/100000 [00:02<00:00, 35454.74it/s]\n",
            "0.5_tsz60_tct100.0k.txt:pass 1/2: 100%|██████████| 100/100 [00:00<00:00, 32271.32it/s]\n",
            "0.5_tsz60_tct100.0k.txt:pass 2/2: 100%|██████████| 100000/100000 [00:02<00:00, 46984.19it/s]\n",
            "0.5_tsz70_tct100.0k.txt:pass 1/2: 100%|██████████| 100/100 [00:00<00:00, 23851.60it/s]\n",
            "0.5_tsz70_tct100.0k.txt:pass 2/2: 100%|██████████| 100000/100000 [00:02<00:00, 44595.22it/s]\n",
            "0.5_tsz80_tct100.0k.txt:pass 1/2: 100%|██████████| 100/100 [00:00<00:00, 43527.44it/s]\n",
            "0.5_tsz80_tct100.0k.txt:pass 2/2: 100%|██████████| 100000/100000 [00:02<00:00, 42912.46it/s]\n",
            "0.5_tsz90_tct100.0k.txt:pass 1/2: 100%|██████████| 100/100 [00:00<00:00, 25628.16it/s]\n",
            "0.5_tsz90_tct100.0k.txt:pass 2/2: 100%|██████████| 100000/100000 [00:02<00:00, 38499.60it/s]\n",
            "0.1_tsz50_tct100.0k.txt:pass 1/2: 100%|██████████| 100/100 [00:00<00:00, 35879.42it/s]\n",
            "0.1_tsz50_tct100.0k.txt:pass 2/2: 100%|██████████| 100000/100000 [00:02<00:00, 41971.98it/s]\n",
            "0.2_tsz50_tct100.0k.txt:pass 1/2: 100%|██████████| 100/100 [00:00<00:00, 24378.40it/s]\n",
            "0.2_tsz50_tct100.0k.txt:pass 2/2: 100%|██████████| 100000/100000 [00:02<00:00, 38605.68it/s]\n",
            "0.3_tsz50_tct100.0k.txt:pass 1/2: 100%|██████████| 100/100 [00:00<00:00, 35181.21it/s]\n",
            "0.3_tsz50_tct100.0k.txt:pass 2/2: 100%|██████████| 100000/100000 [00:01<00:00, 58791.29it/s]\n",
            "0.4_tsz50_tct100.0k.txt:pass 1/2: 100%|██████████| 100/100 [00:00<00:00, 37971.25it/s]\n",
            "0.4_tsz50_tct100.0k.txt:pass 2/2: 100%|██████████| 100000/100000 [00:01<00:00, 60061.92it/s]\n",
            "0.5_tsz50_tct100.0k.txt:pass 1/2: 100%|██████████| 100/100 [00:00<00:00, 39930.54it/s]\n",
            "0.5_tsz50_tct100.0k.txt:pass 2/2: 100%|██████████| 100000/100000 [00:01<00:00, 64370.23it/s]\n",
            "0.6_tsz50_tct100.0k.txt:pass 1/2: 100%|██████████| 100/100 [00:00<00:00, 71869.50it/s]\n",
            "0.6_tsz50_tct100.0k.txt:pass 2/2: 100%|██████████| 100000/100000 [00:01<00:00, 64783.85it/s]\n",
            "0.7_tsz50_tct100.0k.txt:pass 1/2: 100%|██████████| 100/100 [00:00<00:00, 34978.77it/s]\n",
            "0.7_tsz50_tct100.0k.txt:pass 2/2: 100%|██████████| 100000/100000 [00:01<00:00, 66338.44it/s]\n",
            "0.8_tsz50_tct100.0k.txt:pass 1/2: 100%|██████████| 100/100 [00:00<00:00, 40948.00it/s]\n",
            "0.8_tsz50_tct100.0k.txt:pass 2/2: 100%|██████████| 100000/100000 [00:01<00:00, 57472.88it/s]\n"
          ]
        }
      ]
    },
    {
      "cell_type": "code",
      "source": [
        "    #Generate a dataset of frequent items. These paramaters can be changed to \n",
        "    #determine the type of data to generate.\n",
        "\n",
        "    #:param int row_count: The number of rows in the dataset. (in this case they are 10000)\n",
        "    #:param int max_per_basket: Maximum number of items per basket. (max 100 items per basket)\n",
        "    #:param int num_freq_sets: The number of unique frequent item sets. (100 freq item sets)\n",
        "    #:param int item_count: The number of unique items. (500 unique items)\n",
        "    #:param float prob_frequent: The probability of a basket containing a frequent itemset. (50% is the probability that a basket contains a freq itemset)"
      ],
      "metadata": {
        "id": "PvOQHH1IW1kU"
      },
      "execution_count": null,
      "outputs": []
    },
    {
      "cell_type": "code",
      "source": [
        "import pandas as pd\n",
        "import numpy as np\n",
        "\n",
        "dataset = pd.read_csv('0.5_tsz10_tct1.0m.txt')"
      ],
      "metadata": {
        "id": "JqYFzPT-W_7q"
      },
      "execution_count": 3,
      "outputs": []
    },
    {
      "cell_type": "code",
      "source": [
        "# I want the dataset to be a np.array\n",
        "dataset_array = np.array(dataset)\n",
        "\n",
        "print(dataset_array[0])\n",
        "\n",
        "# since the array contains baskets with only a string of element and not a list of elements, I need to fix this thing\n",
        "new_array = []\n",
        "for i in range(len(dataset_array)):\n",
        "    split_elements = np.char.split(dataset_array[i].astype(str))\n",
        "    ok_split_elements = (split_elements[0])\n",
        "    new_array.append(ok_split_elements)"
      ],
      "metadata": {
        "id": "7aOoT9jmXDDM",
        "colab": {
          "base_uri": "https://localhost:8080/"
        },
        "outputId": "5e6ed62b-da8f-4659-ff3a-e17d817ef514"
      },
      "execution_count": 4,
      "outputs": [
        {
          "output_type": "stream",
          "name": "stdout",
          "text": [
            "['F1 F6 F4 F0 F8 F3 F7 F2 F5']\n"
          ]
        }
      ]
    },
    {
      "cell_type": "code",
      "source": [
        "# now it works\n",
        "#new_array[1]"
      ],
      "metadata": {
        "id": "e83QYxtzXLO9"
      },
      "execution_count": null,
      "outputs": []
    },
    {
      "cell_type": "code",
      "source": [
        "#new_array[0]"
      ],
      "metadata": {
        "id": "2DUfDcj3YTyX"
      },
      "execution_count": null,
      "outputs": []
    },
    {
      "cell_type": "code",
      "source": [
        "#len(new_array[0])"
      ],
      "metadata": {
        "id": "g_2QPxuyXLRf"
      },
      "execution_count": null,
      "outputs": []
    },
    {
      "cell_type": "code",
      "source": [
        "size_dataset = [\n",
        "    '0.5_tsz10_tct100.0K.txt',\n",
        "    '0.5_tsz20_tct100.0K.txt',\n",
        "    '0.5_tsz30_tct100.0K.txt',\n",
        "    '0.5_tsz40_tct100.0K.txt',\n",
        "    '0.5_tsz50_tct100.0K.txt',\n",
        "    '0.5_tsz60_tct100.0K.txt',\n",
        "    '0.5_tsz70_tct100.0K.txt',\n",
        "    '0.5_tsz80_tct100.0K.txt',\n",
        "    '0.5_tsz90_tct100.0K.txt',\n",
        "]"
      ],
      "metadata": {
        "id": "EZChDpcz04AA"
      },
      "execution_count": 48,
      "outputs": []
    },
    {
      "cell_type": "markdown",
      "source": [
        "#apriori\n",
        "\n"
      ],
      "metadata": {
        "id": "4Gcs6DIs04MR"
      }
    },
    {
      "cell_type": "code",
      "source": [
        "!pip install apyori"
      ],
      "metadata": {
        "id": "o04gbUaC119M",
        "outputId": "d788baea-34a8-42b0-efc1-f5ff431ccda4",
        "colab": {
          "base_uri": "https://localhost:8080/"
        }
      },
      "execution_count": 8,
      "outputs": [
        {
          "output_type": "stream",
          "name": "stdout",
          "text": [
            "Looking in indexes: https://pypi.org/simple, https://us-python.pkg.dev/colab-wheels/public/simple/\n",
            "Requirement already satisfied: apyori in /usr/local/lib/python3.10/dist-packages (1.1.2)\n"
          ]
        }
      ]
    },
    {
      "cell_type": "code",
      "source": [
        "from apyori import apriori\n",
        "import time"
      ],
      "metadata": {
        "id": "elQZRPrW14h5"
      },
      "execution_count": 46,
      "outputs": []
    },
    {
      "cell_type": "code",
      "source": [
        "runtime_apriori = []\n",
        "\n",
        "for i in range(len(size_dataset)):\n",
        "  dataset = pd.read_csv(size_dataset[i])\n",
        "\n",
        "# I want the dataset to be a np.array\n",
        "  dataset_array = np.array(dataset)\n",
        "\n",
        "  \n",
        "\n",
        "# since the array contains baskets with only a string of element and not a list of elements, I need to fix this thing\n",
        "  new_array = []\n",
        "  for i in range(len(dataset_array)):\n",
        "      split_elements = np.char.split(dataset_array[i].astype(str))\n",
        "      ok_split_elements = (split_elements[0])\n",
        "      new_array.append(ok_split_elements)\n",
        "\n",
        "\n",
        "\n",
        "# Example dataset\n",
        "  dataset = new_array\n",
        "\n",
        "# Minimum support threshold\n",
        "  min_support = 0.2\n",
        " \n",
        "  start = time.time()\n",
        "# Apply the Apriori algorithm\n",
        "  results = list(apriori(dataset, min_support=min_support))\n",
        "\n",
        "# Print frequent itemsets and their support\n",
        "  for itemset in results:\n",
        "      items = list(itemset.items)\n",
        "      support = itemset.support\n",
        "    \n",
        "\n",
        "  end = time.time()\n",
        "\n",
        "  result_time = end - start\n",
        "\n",
        "  runtime_apriori.append(result_time)\n",
        "  "
      ],
      "metadata": {
        "id": "8UHDuaP41L-4",
        "outputId": "b3423ea7-9ea5-460a-d397-ed98cf00583e",
        "colab": {
          "base_uri": "https://localhost:8080/",
          "height": 398
        }
      },
      "execution_count": 49,
      "outputs": [
        {
          "output_type": "error",
          "ename": "FileNotFoundError",
          "evalue": "ignored",
          "traceback": [
            "\u001b[0;31m---------------------------------------------------------------------------\u001b[0m",
            "\u001b[0;31mFileNotFoundError\u001b[0m                         Traceback (most recent call last)",
            "\u001b[0;32m<ipython-input-49-4c7fe8b55e9d>\u001b[0m in \u001b[0;36m<cell line: 3>\u001b[0;34m()\u001b[0m\n\u001b[1;32m      2\u001b[0m \u001b[0;34m\u001b[0m\u001b[0m\n\u001b[1;32m      3\u001b[0m \u001b[0;32mfor\u001b[0m \u001b[0mi\u001b[0m \u001b[0;32min\u001b[0m \u001b[0mrange\u001b[0m\u001b[0;34m(\u001b[0m\u001b[0mlen\u001b[0m\u001b[0;34m(\u001b[0m\u001b[0msize_dataset\u001b[0m\u001b[0;34m)\u001b[0m\u001b[0;34m)\u001b[0m\u001b[0;34m:\u001b[0m\u001b[0;34m\u001b[0m\u001b[0;34m\u001b[0m\u001b[0m\n\u001b[0;32m----> 4\u001b[0;31m   \u001b[0mdataset\u001b[0m \u001b[0;34m=\u001b[0m \u001b[0mpd\u001b[0m\u001b[0;34m.\u001b[0m\u001b[0mread_csv\u001b[0m\u001b[0;34m(\u001b[0m\u001b[0msize_dataset\u001b[0m\u001b[0;34m[\u001b[0m\u001b[0mi\u001b[0m\u001b[0;34m]\u001b[0m\u001b[0;34m)\u001b[0m\u001b[0;34m\u001b[0m\u001b[0;34m\u001b[0m\u001b[0m\n\u001b[0m\u001b[1;32m      5\u001b[0m \u001b[0;34m\u001b[0m\u001b[0m\n\u001b[1;32m      6\u001b[0m \u001b[0;31m# I want the dataset to be a np.array\u001b[0m\u001b[0;34m\u001b[0m\u001b[0;34m\u001b[0m\u001b[0m\n",
            "\u001b[0;32m/usr/local/lib/python3.10/dist-packages/pandas/util/_decorators.py\u001b[0m in \u001b[0;36mwrapper\u001b[0;34m(*args, **kwargs)\u001b[0m\n\u001b[1;32m    209\u001b[0m                 \u001b[0;32melse\u001b[0m\u001b[0;34m:\u001b[0m\u001b[0;34m\u001b[0m\u001b[0;34m\u001b[0m\u001b[0m\n\u001b[1;32m    210\u001b[0m                     \u001b[0mkwargs\u001b[0m\u001b[0;34m[\u001b[0m\u001b[0mnew_arg_name\u001b[0m\u001b[0;34m]\u001b[0m \u001b[0;34m=\u001b[0m \u001b[0mnew_arg_value\u001b[0m\u001b[0;34m\u001b[0m\u001b[0;34m\u001b[0m\u001b[0m\n\u001b[0;32m--> 211\u001b[0;31m             \u001b[0;32mreturn\u001b[0m \u001b[0mfunc\u001b[0m\u001b[0;34m(\u001b[0m\u001b[0;34m*\u001b[0m\u001b[0margs\u001b[0m\u001b[0;34m,\u001b[0m \u001b[0;34m**\u001b[0m\u001b[0mkwargs\u001b[0m\u001b[0;34m)\u001b[0m\u001b[0;34m\u001b[0m\u001b[0;34m\u001b[0m\u001b[0m\n\u001b[0m\u001b[1;32m    212\u001b[0m \u001b[0;34m\u001b[0m\u001b[0m\n\u001b[1;32m    213\u001b[0m         \u001b[0;32mreturn\u001b[0m \u001b[0mcast\u001b[0m\u001b[0;34m(\u001b[0m\u001b[0mF\u001b[0m\u001b[0;34m,\u001b[0m \u001b[0mwrapper\u001b[0m\u001b[0;34m)\u001b[0m\u001b[0;34m\u001b[0m\u001b[0;34m\u001b[0m\u001b[0m\n",
            "\u001b[0;32m/usr/local/lib/python3.10/dist-packages/pandas/util/_decorators.py\u001b[0m in \u001b[0;36mwrapper\u001b[0;34m(*args, **kwargs)\u001b[0m\n\u001b[1;32m    329\u001b[0m                     \u001b[0mstacklevel\u001b[0m\u001b[0;34m=\u001b[0m\u001b[0mfind_stack_level\u001b[0m\u001b[0;34m(\u001b[0m\u001b[0;34m)\u001b[0m\u001b[0;34m,\u001b[0m\u001b[0;34m\u001b[0m\u001b[0;34m\u001b[0m\u001b[0m\n\u001b[1;32m    330\u001b[0m                 )\n\u001b[0;32m--> 331\u001b[0;31m             \u001b[0;32mreturn\u001b[0m \u001b[0mfunc\u001b[0m\u001b[0;34m(\u001b[0m\u001b[0;34m*\u001b[0m\u001b[0margs\u001b[0m\u001b[0;34m,\u001b[0m \u001b[0;34m**\u001b[0m\u001b[0mkwargs\u001b[0m\u001b[0;34m)\u001b[0m\u001b[0;34m\u001b[0m\u001b[0;34m\u001b[0m\u001b[0m\n\u001b[0m\u001b[1;32m    332\u001b[0m \u001b[0;34m\u001b[0m\u001b[0m\n\u001b[1;32m    333\u001b[0m         \u001b[0;31m# error: \"Callable[[VarArg(Any), KwArg(Any)], Any]\" has no\u001b[0m\u001b[0;34m\u001b[0m\u001b[0;34m\u001b[0m\u001b[0m\n",
            "\u001b[0;32m/usr/local/lib/python3.10/dist-packages/pandas/io/parsers/readers.py\u001b[0m in \u001b[0;36mread_csv\u001b[0;34m(filepath_or_buffer, sep, delimiter, header, names, index_col, usecols, squeeze, prefix, mangle_dupe_cols, dtype, engine, converters, true_values, false_values, skipinitialspace, skiprows, skipfooter, nrows, na_values, keep_default_na, na_filter, verbose, skip_blank_lines, parse_dates, infer_datetime_format, keep_date_col, date_parser, dayfirst, cache_dates, iterator, chunksize, compression, thousands, decimal, lineterminator, quotechar, quoting, doublequote, escapechar, comment, encoding, encoding_errors, dialect, error_bad_lines, warn_bad_lines, on_bad_lines, delim_whitespace, low_memory, memory_map, float_precision, storage_options)\u001b[0m\n\u001b[1;32m    948\u001b[0m     \u001b[0mkwds\u001b[0m\u001b[0;34m.\u001b[0m\u001b[0mupdate\u001b[0m\u001b[0;34m(\u001b[0m\u001b[0mkwds_defaults\u001b[0m\u001b[0;34m)\u001b[0m\u001b[0;34m\u001b[0m\u001b[0;34m\u001b[0m\u001b[0m\n\u001b[1;32m    949\u001b[0m \u001b[0;34m\u001b[0m\u001b[0m\n\u001b[0;32m--> 950\u001b[0;31m     \u001b[0;32mreturn\u001b[0m \u001b[0m_read\u001b[0m\u001b[0;34m(\u001b[0m\u001b[0mfilepath_or_buffer\u001b[0m\u001b[0;34m,\u001b[0m \u001b[0mkwds\u001b[0m\u001b[0;34m)\u001b[0m\u001b[0;34m\u001b[0m\u001b[0;34m\u001b[0m\u001b[0m\n\u001b[0m\u001b[1;32m    951\u001b[0m \u001b[0;34m\u001b[0m\u001b[0m\n\u001b[1;32m    952\u001b[0m \u001b[0;34m\u001b[0m\u001b[0m\n",
            "\u001b[0;32m/usr/local/lib/python3.10/dist-packages/pandas/io/parsers/readers.py\u001b[0m in \u001b[0;36m_read\u001b[0;34m(filepath_or_buffer, kwds)\u001b[0m\n\u001b[1;32m    603\u001b[0m \u001b[0;34m\u001b[0m\u001b[0m\n\u001b[1;32m    604\u001b[0m     \u001b[0;31m# Create the parser.\u001b[0m\u001b[0;34m\u001b[0m\u001b[0;34m\u001b[0m\u001b[0m\n\u001b[0;32m--> 605\u001b[0;31m     \u001b[0mparser\u001b[0m \u001b[0;34m=\u001b[0m \u001b[0mTextFileReader\u001b[0m\u001b[0;34m(\u001b[0m\u001b[0mfilepath_or_buffer\u001b[0m\u001b[0;34m,\u001b[0m \u001b[0;34m**\u001b[0m\u001b[0mkwds\u001b[0m\u001b[0;34m)\u001b[0m\u001b[0;34m\u001b[0m\u001b[0;34m\u001b[0m\u001b[0m\n\u001b[0m\u001b[1;32m    606\u001b[0m \u001b[0;34m\u001b[0m\u001b[0m\n\u001b[1;32m    607\u001b[0m     \u001b[0;32mif\u001b[0m \u001b[0mchunksize\u001b[0m \u001b[0;32mor\u001b[0m \u001b[0miterator\u001b[0m\u001b[0;34m:\u001b[0m\u001b[0;34m\u001b[0m\u001b[0;34m\u001b[0m\u001b[0m\n",
            "\u001b[0;32m/usr/local/lib/python3.10/dist-packages/pandas/io/parsers/readers.py\u001b[0m in \u001b[0;36m__init__\u001b[0;34m(self, f, engine, **kwds)\u001b[0m\n\u001b[1;32m   1440\u001b[0m \u001b[0;34m\u001b[0m\u001b[0m\n\u001b[1;32m   1441\u001b[0m         \u001b[0mself\u001b[0m\u001b[0;34m.\u001b[0m\u001b[0mhandles\u001b[0m\u001b[0;34m:\u001b[0m \u001b[0mIOHandles\u001b[0m \u001b[0;34m|\u001b[0m \u001b[0;32mNone\u001b[0m \u001b[0;34m=\u001b[0m \u001b[0;32mNone\u001b[0m\u001b[0;34m\u001b[0m\u001b[0;34m\u001b[0m\u001b[0m\n\u001b[0;32m-> 1442\u001b[0;31m         \u001b[0mself\u001b[0m\u001b[0;34m.\u001b[0m\u001b[0m_engine\u001b[0m \u001b[0;34m=\u001b[0m \u001b[0mself\u001b[0m\u001b[0;34m.\u001b[0m\u001b[0m_make_engine\u001b[0m\u001b[0;34m(\u001b[0m\u001b[0mf\u001b[0m\u001b[0;34m,\u001b[0m \u001b[0mself\u001b[0m\u001b[0;34m.\u001b[0m\u001b[0mengine\u001b[0m\u001b[0;34m)\u001b[0m\u001b[0;34m\u001b[0m\u001b[0;34m\u001b[0m\u001b[0m\n\u001b[0m\u001b[1;32m   1443\u001b[0m \u001b[0;34m\u001b[0m\u001b[0m\n\u001b[1;32m   1444\u001b[0m     \u001b[0;32mdef\u001b[0m \u001b[0mclose\u001b[0m\u001b[0;34m(\u001b[0m\u001b[0mself\u001b[0m\u001b[0;34m)\u001b[0m \u001b[0;34m->\u001b[0m \u001b[0;32mNone\u001b[0m\u001b[0;34m:\u001b[0m\u001b[0;34m\u001b[0m\u001b[0;34m\u001b[0m\u001b[0m\n",
            "\u001b[0;32m/usr/local/lib/python3.10/dist-packages/pandas/io/parsers/readers.py\u001b[0m in \u001b[0;36m_make_engine\u001b[0;34m(self, f, engine)\u001b[0m\n\u001b[1;32m   1733\u001b[0m                 \u001b[0;32mif\u001b[0m \u001b[0;34m\"b\"\u001b[0m \u001b[0;32mnot\u001b[0m \u001b[0;32min\u001b[0m \u001b[0mmode\u001b[0m\u001b[0;34m:\u001b[0m\u001b[0;34m\u001b[0m\u001b[0;34m\u001b[0m\u001b[0m\n\u001b[1;32m   1734\u001b[0m                     \u001b[0mmode\u001b[0m \u001b[0;34m+=\u001b[0m \u001b[0;34m\"b\"\u001b[0m\u001b[0;34m\u001b[0m\u001b[0;34m\u001b[0m\u001b[0m\n\u001b[0;32m-> 1735\u001b[0;31m             self.handles = get_handle(\n\u001b[0m\u001b[1;32m   1736\u001b[0m                 \u001b[0mf\u001b[0m\u001b[0;34m,\u001b[0m\u001b[0;34m\u001b[0m\u001b[0;34m\u001b[0m\u001b[0m\n\u001b[1;32m   1737\u001b[0m                 \u001b[0mmode\u001b[0m\u001b[0;34m,\u001b[0m\u001b[0;34m\u001b[0m\u001b[0;34m\u001b[0m\u001b[0m\n",
            "\u001b[0;32m/usr/local/lib/python3.10/dist-packages/pandas/io/common.py\u001b[0m in \u001b[0;36mget_handle\u001b[0;34m(path_or_buf, mode, encoding, compression, memory_map, is_text, errors, storage_options)\u001b[0m\n\u001b[1;32m    854\u001b[0m         \u001b[0;32mif\u001b[0m \u001b[0mioargs\u001b[0m\u001b[0;34m.\u001b[0m\u001b[0mencoding\u001b[0m \u001b[0;32mand\u001b[0m \u001b[0;34m\"b\"\u001b[0m \u001b[0;32mnot\u001b[0m \u001b[0;32min\u001b[0m \u001b[0mioargs\u001b[0m\u001b[0;34m.\u001b[0m\u001b[0mmode\u001b[0m\u001b[0;34m:\u001b[0m\u001b[0;34m\u001b[0m\u001b[0;34m\u001b[0m\u001b[0m\n\u001b[1;32m    855\u001b[0m             \u001b[0;31m# Encoding\u001b[0m\u001b[0;34m\u001b[0m\u001b[0;34m\u001b[0m\u001b[0m\n\u001b[0;32m--> 856\u001b[0;31m             handle = open(\n\u001b[0m\u001b[1;32m    857\u001b[0m                 \u001b[0mhandle\u001b[0m\u001b[0;34m,\u001b[0m\u001b[0;34m\u001b[0m\u001b[0;34m\u001b[0m\u001b[0m\n\u001b[1;32m    858\u001b[0m                 \u001b[0mioargs\u001b[0m\u001b[0;34m.\u001b[0m\u001b[0mmode\u001b[0m\u001b[0;34m,\u001b[0m\u001b[0;34m\u001b[0m\u001b[0;34m\u001b[0m\u001b[0m\n",
            "\u001b[0;31mFileNotFoundError\u001b[0m: [Errno 2] No such file or directory: '0.5_tsz10_tct100.0K.txt'"
          ]
        }
      ]
    },
    {
      "cell_type": "code",
      "source": [
        "import matplotlib.pyplot as plt"
      ],
      "metadata": {
        "id": "0DZnJiSC3wu1"
      },
      "execution_count": 14,
      "outputs": []
    },
    {
      "cell_type": "code",
      "source": [
        "plt.plot(runtime_apriori)"
      ],
      "metadata": {
        "id": "5MaiEmaa30nn",
        "outputId": "9021e7cf-249a-4f1a-ffc0-6372d0f4f356",
        "colab": {
          "base_uri": "https://localhost:8080/",
          "height": 448
        }
      },
      "execution_count": 16,
      "outputs": [
        {
          "output_type": "execute_result",
          "data": {
            "text/plain": [
              "[<matplotlib.lines.Line2D at 0x7fefadcadfc0>]"
            ]
          },
          "metadata": {},
          "execution_count": 16
        },
        {
          "output_type": "display_data",
          "data": {
            "text/plain": [
              "<Figure size 640x480 with 1 Axes>"
            ],
            "image/png": "[encoded data removed]"
          },
          "metadata": {}
        }
      ]
    },
    {
      "cell_type": "markdown",
      "source": [
        "APRIORI LIBRARY DOCUMENTATION"
      ],
      "metadata": {
        "id": "CpB3JTZo0-RN"
      }
    },
    {
      "cell_type": "code",
      "source": [
        "!pip install apyori"
      ],
      "metadata": {
        "id": "Wg7vSIzxGOaK",
        "outputId": "37879bca-0c11-4fa9-9af5-04fe0f004de8",
        "colab": {
          "base_uri": "https://localhost:8080/"
        }
      },
      "execution_count": 5,
      "outputs": [
        {
          "output_type": "stream",
          "name": "stdout",
          "text": [
            "Looking in indexes: https://pypi.org/simple, https://us-python.pkg.dev/colab-wheels/public/simple/\n",
            "Collecting apyori\n",
            "  Downloading apyori-1.1.2.tar.gz (8.6 kB)\n",
            "  Preparing metadata (setup.py) ... \u001b[?25l\u001b[?25hdone\n",
            "Building wheels for collected packages: apyori\n",
            "  Building wheel for apyori (setup.py) ... \u001b[?25l\u001b[?25hdone\n",
            "  Created wheel for apyori: filename=apyori-1.1.2-py3-none-any.whl size=5956 sha256=57b3528aa363fe01a61f425c1ca87c61ce9a11dcd22bb6fddde574691ce0ad2d\n",
            "  Stored in directory: /root/.cache/pip/wheels/c4/1a/79/20f55c470a50bb3702a8cb7c94d8ada15573538c7f4baebe2d\n",
            "Successfully built apyori\n",
            "Installing collected packages: apyori\n",
            "Successfully installed apyori-1.1.2\n"
          ]
        }
      ]
    },
    {
      "cell_type": "code",
      "source": [
        "from apyori import apriori\n",
        "import time\n",
        "\n",
        "# Example dataset\n",
        "dataset = new_array\n",
        "\n",
        "# Minimum support threshold\n",
        "min_support = 0.2\n",
        "\n",
        "start = time.time()\n",
        "# Apply the Apriori algorithm\n",
        "results = list(apriori(dataset, min_support=min_support))\n",
        "\n",
        "# Print frequent itemsets and their support\n",
        "for itemset in results:\n",
        "    items = list(itemset.items)\n",
        "    support = itemset.support\n",
        "    print(items, support)\n",
        "\n",
        "end = time.time()\n",
        "\n",
        "print('Time required:', end - start)\n"
      ],
      "metadata": {
        "colab": {
          "base_uri": "https://localhost:8080/"
        },
        "id": "pjr59AXI8iKG",
        "outputId": "019ab5a9-ef7c-4326-ca58-d4683a5ba4e4"
      },
      "execution_count": null,
      "outputs": [
        {
          "output_type": "stream",
          "name": "stdout",
          "text": [
            "['F0'] 0.24487244872448724\n",
            "['F1'] 0.26574265742657427\n",
            "['F10'] 0.2900329003290033\n",
            "['F11'] 0.22002220022200222\n",
            "['F12'] 0.2576125761257613\n",
            "['F13'] 0.23972239722397223\n",
            "['F14'] 0.24858248582485826\n",
            "['F15'] 0.25278252782527827\n",
            "['F16'] 0.24007240072400723\n",
            "['F17'] 0.2799827998279983\n",
            "['F18'] 0.23392233922339223\n",
            "['F19'] 0.22470224702247021\n",
            "['F2'] 0.24652246522465224\n",
            "['F20'] 0.26173261732617326\n",
            "['F21'] 0.23046230462304623\n",
            "['F22'] 0.26055260552605525\n",
            "['F23'] 0.23612236122361224\n",
            "['F24'] 0.26614266142661425\n",
            "['F25'] 0.23575235752357523\n",
            "['F26'] 0.25960259602596025\n",
            "['F27'] 0.23657236572365722\n",
            "['F28'] 0.26891268912689126\n",
            "['F29'] 0.2840228402284023\n",
            "['F3'] 0.2989729897298973\n",
            "['F30'] 0.25645256452564524\n",
            "['F31'] 0.2642226422264223\n",
            "['F32'] 0.23075230752307524\n",
            "['F33'] 0.21568215682156822\n",
            "['F34'] 0.2661326613266133\n",
            "['F35'] 0.2706427064270643\n",
            "['F36'] 0.2701027010270103\n",
            "['F37'] 0.24413244132441325\n",
            "['F38'] 0.24514245142451424\n",
            "['F39'] 0.24927249272492724\n",
            "['F4'] 0.25505255052550524\n",
            "['F40'] 0.2703827038270383\n",
            "['F41'] 0.23579235792357925\n",
            "['F42'] 0.21961219612196123\n",
            "['F43'] 0.27422274222742227\n",
            "['F44'] 0.2744527445274453\n",
            "['F45'] 0.22846228462284623\n",
            "['F46'] 0.25538255382553826\n",
            "['F47'] 0.25435254352543524\n",
            "['F48'] 0.2511025110251103\n",
            "['F49'] 0.24933249332493326\n",
            "['F5'] 0.24709247092470923\n",
            "['F6'] 0.26538265382653825\n",
            "['F7'] 0.26405264052640526\n",
            "['F8'] 0.23721237212372123\n",
            "['F9'] 0.22665226652266524\n",
            "['F10', 'F1'] 0.2108621086210862\n",
            "['F3', 'F1'] 0.2095720957209572\n",
            "['F1', 'F36'] 0.2001720017200172\n",
            "['F10', 'F20'] 0.2031120311203112\n",
            "['F10', 'F22'] 0.21044210442104422\n",
            "['F26', 'F10'] 0.2005220052200522\n",
            "['F10', 'F29'] 0.21613216132161323\n",
            "['F3', 'F10'] 0.22493224932249323\n",
            "['F30', 'F10'] 0.2059120591205912\n",
            "['F10', 'F31'] 0.2001820018200182\n",
            "['F10', 'F35'] 0.22064220642206422\n",
            "['F10', 'F37'] 0.2048920489204892\n",
            "['F10', 'F4'] 0.2054720547205472\n",
            "['F10', 'F44'] 0.2153621536215362\n",
            "['F10', 'F6'] 0.2105121051210512\n",
            "['F10', 'F7'] 0.2037320373203732\n",
            "['F3', 'F12'] 0.20809208092080922\n",
            "['F3', 'F15'] 0.2029620296202962\n",
            "['F17', 'F24'] 0.2011220112201122\n",
            "['F17', 'F3'] 0.2150921509215092\n",
            "['F17', 'F36'] 0.2043620436204362\n",
            "['F3', 'F22'] 0.2003020030200302\n",
            "['F3', 'F24'] 0.20577205772057722\n",
            "['F26', 'F29'] 0.2048620486204862\n",
            "['F26', 'F3'] 0.2049220492204922\n",
            "['F3', 'F27'] 0.2107721077210772\n",
            "['F3', 'F28'] 0.2145821458214582\n",
            "['F3', 'F29'] 0.2093420934209342\n",
            "['F34', 'F29'] 0.2096420964209642\n",
            "['F35', 'F29'] 0.2005120051200512\n",
            "['F29', 'F6'] 0.2049320493204932\n",
            "['F3', 'F34'] 0.2001820018200182\n",
            "['F3', 'F35'] 0.22032220322203222\n",
            "['F3', 'F36'] 0.20877208772087721\n",
            "['F3', 'F4'] 0.20507205072050722\n",
            "['F3', 'F43'] 0.21343213432134323\n",
            "['F3', 'F44'] 0.21975219752197522\n",
            "['F5', 'F3'] 0.2032020320203202\n",
            "['F3', 'F7'] 0.2139921399213992\n",
            "['F34', 'F35'] 0.20561205612056122\n",
            "['F34', 'F6'] 0.2013520135201352\n",
            "['F40', 'F35'] 0.2050520505205052\n",
            "['F35', 'F43'] 0.2051820518205182\n",
            "['F35', 'F44'] 0.2055520555205552\n",
            "['F46', 'F35'] 0.2004320043200432\n",
            "['F35', 'F6'] 0.2061820618206182\n",
            "['F40', 'F6'] 0.2004520045200452\n",
            "['F40', 'F7'] 0.20939209392093922\n",
            "['F43', 'F6'] 0.2012220122201222\n",
            "['F6', 'F7'] 0.21020210202102022\n",
            "Time required: 5.73182487487793\n"
          ]
        }
      ]
    },
    {
      "cell_type": "markdown",
      "source": [
        "#fp-growth\n",
        "https://github.com/JackHCC/Apriori-and-FP_Growth/blob/master/FP_growth.py\n"
      ],
      "metadata": {
        "id": "zSaq-Xjn5GJ4"
      }
    },
    {
      "cell_type": "code",
      "source": [
        "#fp-growth\n",
        "\n",
        "# fp-growth\n",
        "\n",
        "from collections import defaultdict, namedtuple\n",
        "import time\n",
        "\n",
        "def find_frequent_itemsets(transactions, minimum_support, include_support=False):\n",
        "    # Function to find frequent itemsets in the transactions dataset\n",
        "\n",
        "    items = defaultdict(lambda: 0)\n",
        "\n",
        "    for transaction in transactions:\n",
        "        for item in transaction:\n",
        "            items[item] += 1\n",
        "\n",
        "    # Filtering frequent 1-itemsets\n",
        "    items = dict((item, support) for item, support in items.items()\n",
        "        if support >= minimum_support)\n",
        "\n",
        "    def clean_transaction(transaction):\n",
        "        transaction = filter(lambda v: v in items, transaction)\n",
        "        transaction_list = list(transaction)\n",
        "        transaction_list.sort(key=lambda v: items[v], reverse=True)\n",
        "        return transaction_list\n",
        "\n",
        "    # Constructing the FP-tree\n",
        "    master = FPTree()\n",
        "    for transaction in map(clean_transaction, transactions):\n",
        "        master.add(transaction)\n",
        "\n",
        "    def find_with_suffix(tree, suffix):\n",
        "        for item, nodes in tree.items():\n",
        "            support = sum(n.count for n in nodes)\n",
        "            if support >= minimum_support and item not in suffix:\n",
        "                found_set = [item] + suffix\n",
        "                yield (found_set, support) if include_support else found_set\n",
        "\n",
        "                cond_tree = conditional_tree_from_paths(tree.prefix_paths(item))\n",
        "                for s in find_with_suffix(cond_tree, found_set):\n",
        "                    yield s\n",
        "\n",
        "    for itemset in find_with_suffix(master, []):\n",
        "        yield itemset\n",
        "\n",
        "class FPTree(object):\n",
        "    # FP-tree data structure\n",
        "\n",
        "    Route = namedtuple('Route', 'head tail')\n",
        "\n",
        "    def __init__(self):\n",
        "        # Initialize the root node and routes\n",
        "        self._root = FPNode(self, None, None)\n",
        "        self._routes = {}\n",
        "\n",
        "    @property\n",
        "    def root(self):\n",
        "        # Create the root node\n",
        "        return self._root\n",
        "\n",
        "    def add(self, transaction):\n",
        "        # Add a transaction to the tree\n",
        "        point = self._root\n",
        "\n",
        "        for item in transaction:\n",
        "            next_point = point.search(item)\n",
        "            if next_point:\n",
        "                # Current node already exists\n",
        "                next_point.increment()\n",
        "            else:\n",
        "                # Create a new node\n",
        "                next_point = FPNode(self, item)\n",
        "                point.add(next_point)\n",
        "\n",
        "                # Update the routes\n",
        "                self._update_route(next_point)\n",
        "\n",
        "            point = next_point\n",
        "\n",
        "    def _update_route(self, point):\n",
        "        assert self is point.tree\n",
        "\n",
        "        try:\n",
        "            route = self._routes[point.item]\n",
        "            route[1].neighbor = point  # route[1] is the tail\n",
        "            self._routes[point.item] = self.Route(route[0], point)\n",
        "        except KeyError:\n",
        "            # Start a new node\n",
        "            self._routes[point.item] = self.Route(point, point)\n",
        "\n",
        "    def items(self):\n",
        "        # Iterate over the items in the tree\n",
        "        for item in self._routes.keys():\n",
        "            yield (item, self.nodes(item))\n",
        "\n",
        "    def nodes(self, item):\n",
        "        # Iterate over the nodes associated with an item\n",
        "        try:\n",
        "            node = self._routes[item][0]\n",
        "        except KeyError:\n",
        "            return\n",
        "\n",
        "        while node:\n",
        "            yield node\n",
        "            node = node.neighbor\n",
        "\n",
        "    def prefix_paths(self, item):\n",
        "        # Generate prefix paths for an item\n",
        "        def collect_path(node):\n",
        "            path = []\n",
        "            while node and not node.root:\n",
        "                path.append(node)\n",
        "                node = node.parent\n",
        "            path.reverse()\n",
        "            return path\n",
        "\n",
        "        return (collect_path(node) for node in self.nodes(item))\n",
        "\n",
        "    def inspect(self):\n",
        "        # Print the tree structure\n",
        "        self.root.inspect(1)\n",
        "\n",
        "        for item, nodes in self.items():\n",
        "            for node in nodes:\n",
        "                print('    %r' % node)\n",
        "\n",
        "def conditional_tree_from_paths(paths):\n",
        "    # Construct a conditional tree from paths\n",
        "    tree = FPTree()\n",
        "    condition_item = None\n",
        "    items = set()\n",
        "\n",
        "    for path in paths:\n",
        "        if condition_item is None:\n",
        "            condition_item = path[-1].item\n",
        "\n",
        "        point = tree.root\n",
        "        for node in path:\n",
        "            next_point = point.search(node.item)\n",
        "            if not next_point:\n",
        "                # Add a new node to the tree\n",
        "                items.add(node.item)\n",
        "                count = node.count if node.item == condition_item else 0\n",
        "                next_point = FPNode(tree, node.item, count)\n",
        "                point.add(next_point)\n",
        "                tree._update_route(next_point)\n",
        "            point = next_point\n",
        "\n",
        "    assert condition_item is not None\n",
        "\n",
        "    # Calculate the counts for nodes\n",
        "    for path in tree.prefix_paths(condition_item):\n",
        "        count = path[-1].count\n",
        "        for node in reversed(path[:-1]):\n",
        "            node._count += count\n",
        "\n",
        "    return tree\n",
        "\n",
        "class FPNode(object):\n",
        "    # FP-tree node\n",
        "\n",
        "    def __init__(self, tree, item, count=1):\n",
        "        self._tree = tree\n",
        "        self._item = item\n",
        "        self._count = count\n",
        "        self._parent = None\n",
        "        self._children = {}\n",
        "        self._neighbor = None\n",
        "\n",
        "    def add(self, child):\n",
        "        # Add a child node\n",
        "\n",
        "        if not isinstance(child, FPNode):\n",
        "            raise TypeError(\"Can only add other FPNodes as children\")\n",
        "\n",
        "        if not child.item in self._children:\n",
        "            self._children[child.item] = child\n",
        "            child.parent = self\n",
        "\n",
        "    def search(self, item):\n",
        "        # Search for a child node with the given item\n",
        "        try:\n",
        "            return self._children[item]\n",
        "        except KeyError:\n",
        "            return None\n",
        "\n",
        "    def __contains__(self, item):\n",
        "        return item in self._children\n",
        "\n",
        "    @property\n",
        "    def tree(self):\n",
        "        return self._tree\n",
        "\n",
        "    @property\n",
        "    def item(self):\n",
        "        return self._item\n",
        "\n",
        "    @property\n",
        "    def count(self):\n",
        "        return self._count\n",
        "\n",
        "    def increment(self):\n",
        "        if self._count is None:\n",
        "            raise ValueError(\"Root nodes have no associated count.\")\n",
        "        self._count += 1\n",
        "\n",
        "    @property\n",
        "    def root(self):\n",
        "        return self._item is None and self._count is None\n",
        "\n",
        "    @property\n",
        "    def leaf(self):\n",
        "        return len(self._children) == 0\n",
        "\n",
        "    @property\n",
        "    def parent(self):\n",
        "        return self._parent\n",
        "\n",
        "    @parent.setter\n",
        "    def parent(self, value):\n",
        "        if value is not None and not isinstance(value, FPNode):\n",
        "            raise TypeError(\"A node must have an FPNode as a parent.\")\n",
        "        if value and value.tree is not self.tree:\n",
        "            raise ValueError(\"Cannot have a parent from another tree.\")\n",
        "        self._parent = value\n",
        "\n",
        "    @property\n",
        "    def neighbor(self):\n",
        "        return self._neighbor\n",
        "\n",
        "    @neighbor.setter\n",
        "    def neighbor(self, value):\n",
        "        if value is not None and not isinstance(value, FPNode):\n",
        "            raise TypeError(\"A node must have an FPNode as a neighbor.\")\n",
        "        if value and value.tree is not self.tree:\n",
        "            raise ValueError(\"Cannot have a neighbor from another tree.\")\n",
        "        self._neighbor = value\n",
        "\n",
        "    @property\n",
        "    def children(self):\n",
        "        return tuple(self._children.values())\n",
        "\n",
        "    def inspect(self, depth=0):\n",
        "        for child in self.children:\n",
        "            child.inspect(depth + 1)\n",
        "\n",
        "    def __repr__(self):\n",
        "        if self.root:\n",
        "            return \"<%s (root)>\" % type(self).__name__\n",
        "        return \"<%s %r (%r)>\" % (type(self).__name__, self.item, self.count)\n"
      ],
      "metadata": {
        "id": "ys5DGrOkYg1Z"
      },
      "execution_count": 18,
      "outputs": []
    },
    {
      "cell_type": "code",
      "source": [
        "# Dataset\n",
        "dataset = new_array\n",
        "# Main function\n",
        "if __name__ == '__main__':\n",
        "    # Call find_frequent_itemsets() to generate frequent itemsets\n",
        "    start = time.time()\n",
        "\n",
        "    total_baskets = len(dataset)\n",
        "    min_support = 0.2 * total_baskets\n",
        "\n",
        "    frequent_itemsets = find_frequent_itemsets(dataset, minimum_support=min_support, include_support=True)\n",
        "\n",
        "    result = []\n",
        "    for itemset, support in frequent_itemsets:\n",
        "        result.append((itemset, support))\n",
        "\n",
        "    result = sorted(result, key=lambda i: i[0])\n",
        "    for itemset, support in result:\n",
        "        print(str(itemset) + ' ' + str(support/total_baskets))\n",
        "\n",
        "    end = time.time()\n",
        "    print('Execution time:', str(end - start))\n"
      ],
      "metadata": {
        "id": "E2i7WrComqd1"
      },
      "execution_count": null,
      "outputs": []
    },
    {
      "cell_type": "code",
      "source": [
        "\n",
        "runtime_fpgrowth = []\n",
        "\n",
        "for i in range(len(size_dataset)):\n",
        "  dataset = pd.read_csv(size_dataset[i])\n",
        "\n",
        "# I want the dataset to be a np.array\n",
        "  dataset_array = np.array(dataset)\n",
        "\n",
        "  \n",
        "\n",
        "# since the array contains baskets with only a string of element and not a list of elements, I need to fix this thing\n",
        "  new_array = []\n",
        "  for i in range(len(dataset_array)):\n",
        "      split_elements = np.char.split(dataset_array[i].astype(str))\n",
        "      ok_split_elements = (split_elements[0])\n",
        "      new_array.append(ok_split_elements)\n",
        "  # Dataset\n",
        "  dataset = new_array\n",
        "# Main function\n",
        "  if __name__ == '__main__':\n",
        "    # Call find_frequent_itemsets() to generate frequent itemsets\n",
        "      start = time.time()\n",
        "\n",
        "      total_baskets = len(dataset)\n",
        "      min_support = 0.2 * total_baskets\n",
        "\n",
        "      frequent_itemsets = find_frequent_itemsets(dataset, minimum_support=min_support, include_support=True)\n",
        "\n",
        "      result = []\n",
        "      for itemset, support in frequent_itemsets:\n",
        "          result.append((itemset, support))\n",
        "\n",
        "      result = sorted(result, key=lambda i: i[0])\n",
        "      for itemset, support in result:\n",
        "          print(str(itemset) + ' ' + str(support/total_baskets))\n",
        "\n",
        "      end = time.time()\n",
        "      \n",
        "      result_time = end - start\n",
        "      runtime_apriori.append(result_time)\n",
        " \n",
        "  "
      ],
      "metadata": {
        "id": "VUpmdnPK4GD3"
      },
      "execution_count": null,
      "outputs": []
    },
    {
      "cell_type": "code",
      "source": [
        "runtime_fpgrowth = runtime_apriori[5:10]\n",
        "\n",
        "runtime_fpgrowth"
      ],
      "metadata": {
        "id": "I4NXhJdE5gaE",
        "outputId": "eee18366-35f6-45df-851d-2d2423b5a138",
        "colab": {
          "base_uri": "https://localhost:8080/"
        }
      },
      "execution_count": 34,
      "outputs": [
        {
          "output_type": "execute_result",
          "data": {
            "text/plain": [
              "[5.144964694976807,\n",
              " 14.06768012046814,\n",
              " 23.318829774856567,\n",
              " 38.84736394882202,\n",
              " 43.21184825897217]"
            ]
          },
          "metadata": {},
          "execution_count": 34
        }
      ]
    },
    {
      "cell_type": "code",
      "source": [
        "runtime_apriori[:5]"
      ],
      "metadata": {
        "id": "OJta5MpK8s15",
        "outputId": "ff2cc1be-cb38-47c4-abd7-c519f21c7459",
        "colab": {
          "base_uri": "https://localhost:8080/"
        }
      },
      "execution_count": 37,
      "outputs": [
        {
          "output_type": "execute_result",
          "data": {
            "text/plain": [
              "[7.933926582336426,\n",
              " 29.517929077148438,\n",
              " 73.07316136360168,\n",
              " 122.24559760093689,\n",
              " 94.46868848800659]"
            ]
          },
          "metadata": {},
          "execution_count": 37
        }
      ]
    },
    {
      "cell_type": "code",
      "source": [
        "plt.plot(runtime_fpgrowth)\n",
        "plt.plot(runtime_apriori[:5])"
      ],
      "metadata": {
        "id": "h2T0GAH88dBV",
        "outputId": "9d34a6ec-fe51-43e2-d58d-f9d9db042464",
        "colab": {
          "base_uri": "https://localhost:8080/",
          "height": 448
        }
      },
      "execution_count": 41,
      "outputs": [
        {
          "output_type": "execute_result",
          "data": {
            "text/plain": [
              "[<matplotlib.lines.Line2D at 0x7fefb237a620>]"
            ]
          },
          "metadata": {},
          "execution_count": 41
        },
        {
          "output_type": "display_data",
          "data": {
            "text/plain": [
              "<Figure size 640x480 with 1 Axes>"
            ],
            "image/png": "[encoded data removed]"
          },
          "metadata": {}
        }
      ]
    },
    {
      "cell_type": "code",
      "source": [
        "#!pip install anytree"
      ],
      "metadata": {
        "id": "YHDMJEY53arU"
      },
      "execution_count": null,
      "outputs": []
    },
    {
      "cell_type": "code",
      "source": [
        "from anytree import Node, RenderTree\n",
        "\n",
        "# Define the itemsets and their support values\n",
        "itemsets = result\n",
        "\n",
        "# Create the root node\n",
        "root = Node(\"Root\")\n",
        "\n",
        "# Create the tree nodes and add them to the tree\n",
        "for itemset, support in itemsets:\n",
        "    current_node = root\n",
        "    for item in itemset:\n",
        "        child_node = None\n",
        "        for child in current_node.children:\n",
        "            if child.name == item:\n",
        "                child_node = child\n",
        "                break\n",
        "        if child_node is None:\n",
        "            child_node = Node(item, parent=current_node)\n",
        "        current_node = child_node\n",
        "\n",
        "# Print the tree\n",
        "for pre, fill, node in RenderTree(root):\n",
        "    print(\"%s%s\" % (pre, node.name))\n"
      ],
      "metadata": {
        "id": "pdz8URQ26L1p"
      },
      "execution_count": null,
      "outputs": []
    },
    {
      "cell_type": "markdown",
      "source": [
        "# eclat\n",
        "https://github.com/jagdeep227/Frequent_itemset_mining/blob/main/Eclat_g.py\n"
      ],
      "metadata": {
        "id": "SVtIZ2wo0kco"
      }
    },
    {
      "cell_type": "code",
      "source": [
        "# eclat\n",
        "#eclat\n",
        "import time\n",
        "\n",
        "FreqItems = dict()\n",
        "support = dict()\n",
        "\n",
        "\n",
        "def eclat(prefix, items, dict_id ,minsup,cnt):\n",
        "    \n",
        "    while items:\n",
        "        i ,itids = items.pop()\n",
        "        isupp = len(itids)\n",
        "        if isupp >= minsup*cnt:\n",
        "            print(prefix + [i], isupp/len(dataset))\n",
        "            FreqItems[frozenset(prefix + [i])] = isupp\n",
        "            suffix = []\n",
        "            for j, ojtids in items:\n",
        "                jtids = itids & ojtids\n",
        "                if len(jtids ) >= minsup*cnt:\n",
        "                    suffix.append((j, jtids))\n",
        "            dict_id += 1\n",
        "            eclat(prefix +[i], sorted(suffix, key=lambda item: len(item[1]), reverse=True), dict_id ,minsup,cnt)"
      ],
      "metadata": {
        "id": "dRaVlQOSkHLe"
      },
      "execution_count": 42,
      "outputs": []
    },
    {
      "cell_type": "code",
      "source": [
        "# Dataset\n",
        "dataset = new_array\n",
        "# Main function\n",
        "if __name__ == '__main__':\n",
        "    # Call find_frequent_itemsets() to generate frequent itemsets\n",
        "    \n",
        "    start = time.time()\n",
        "    items = {}\n",
        "\n",
        "    for transaction_id, transaction in enumerate(dataset):\n",
        "        for item in transaction:\n",
        "            if item in items:\n",
        "                items[item].add(transaction_id)\n",
        "            else:\n",
        "                items[item] = {transaction_id}\n",
        "    \n",
        "    # Convert the dictionary items into a list of tuples\n",
        "    items = [(item, itids) for item, itids in items.items()]\n",
        "    \n",
        "    \n",
        "    cnt = len(dataset)\n",
        "    minsup = 0.2\n",
        "    # Function call to start ECLAT algorithm\n",
        "    eclat([], sorted(items, key=lambda item: len(item[1]), reverse=True), 1, minsup, cnt)\n",
        "\n",
        "    '''result = []\n",
        "    for itemset, support in frequent_itemsets:\n",
        "        result.append((itemset, support))'''\n",
        "\n",
        "    '''result'''\n",
        "\n",
        "    end = time.time()\n",
        "    print('Execution time:', str(end - start))"
      ],
      "metadata": {
        "colab": {
          "base_uri": "https://localhost:8080/"
        },
        "id": "mIUzP6VykmrA",
        "outputId": "14f130a4-4e05-4a8d-f6fa-a0d9bf7e69bc"
      },
      "execution_count": 43,
      "outputs": [
        {
          "output_type": "stream",
          "name": "stdout",
          "text": [
            "['F50'] 0.20411620411620413\n",
            "['F86'] 0.2042032042032042\n",
            "['F62'] 0.20442220442220443\n",
            "['F20'] 0.20456420456420457\n",
            "['F35'] 0.20496420496420498\n",
            "['F24'] 0.20929020929020928\n",
            "['F64'] 0.2096982096982097\n",
            "['F87'] 0.20972220972220973\n",
            "['F44'] 0.2098072098072098\n",
            "['F69'] 0.20995720995720996\n",
            "['F27'] 0.21414121414121415\n",
            "['F40'] 0.21417721417721416\n",
            "['F15'] 0.21426021426021427\n",
            "['F18'] 0.2143082143082143\n",
            "['F88'] 0.21445521445521445\n",
            "['F28'] 0.21447321447321446\n",
            "['F11'] 0.21458621458621457\n",
            "['F89'] 0.21458721458721458\n",
            "['F74'] 0.21477021477021477\n",
            "['F67'] 0.21912121912121912\n",
            "['F76'] 0.21912921912921912\n",
            "['F85'] 0.21948521948521948\n",
            "['F4'] 0.2194982194982195\n",
            "['F49'] 0.2197942197942198\n",
            "['F23'] 0.21986221986221985\n",
            "['F37'] 0.22392122392122393\n",
            "['F71'] 0.22414022414022414\n",
            "['F65'] 0.22442122442122442\n",
            "['F48'] 0.22442522442522442\n",
            "['F29'] 0.22444722444722445\n",
            "['F57'] 0.22456122456122457\n",
            "['F81'] 0.2246172246172246\n",
            "['F54'] 0.22475122475122475\n",
            "['F73'] 0.22478422478422477\n",
            "['F84'] 0.229012229012229\n",
            "['F22'] 0.22927422927422927\n",
            "['F52'] 0.2293032293032293\n",
            "['F77'] 0.22936222936222936\n",
            "['F25'] 0.22943422943422945\n",
            "['F6'] 0.2295152295152295\n",
            "['F63'] 0.22952822952822952\n",
            "['F36'] 0.22955322955322954\n",
            "['F3'] 0.2297952297952298\n",
            "['F83'] 0.22982622982622983\n",
            "['F31'] 0.22998122998122997\n",
            "['F75'] 0.2342022342022342\n",
            "['F70'] 0.23425223425223426\n",
            "['F0'] 0.2342852342852343\n",
            "['F39'] 0.2344992344992345\n",
            "['F45'] 0.23452323452323454\n",
            "['F79'] 0.23462623462623464\n",
            "['F17'] 0.23463523463523464\n",
            "['F38'] 0.2391162391162391\n",
            "['F5'] 0.2392772392772393\n",
            "['F7'] 0.23932323932323932\n",
            "['F12'] 0.23934023934023935\n",
            "['F43'] 0.23941523941523943\n",
            "['F66'] 0.23943323943323944\n",
            "['F46'] 0.2394742394742395\n",
            "['F8'] 0.23963623963623965\n",
            "['F58'] 0.24423024423024423\n",
            "['F16'] 0.2444212444212444\n",
            "['F41'] 0.24457224457224458\n",
            "['F61'] 0.2492952492952493\n",
            "['F47'] 0.24931924931924931\n",
            "['F19'] 0.2494032494032494\n",
            "['F21'] 0.25438125438125436\n",
            "['F21', 'F78'] 0.2042972042972043\n",
            "['F42'] 0.2544102544102544\n",
            "['F55'] 0.25472925472925473\n",
            "['F34'] 0.26416026416026417\n",
            "['F1'] 0.26448926448926446\n",
            "['F56'] 0.2645862645862646\n",
            "['F56', 'F78'] 0.2044932044932045\n",
            "['F32'] 0.2792402792402792\n",
            "['F32', 'F78'] 0.20419120419120418\n",
            "['F32', 'F72'] 0.2041982041982042\n",
            "['F32', 'F68'] 0.20432520432520432\n",
            "['F68'] 0.27945227945227946\n",
            "['F72'] 0.2839492839492839\n",
            "['F78'] 0.29435729435729435\n",
            "Execution time: 110.97355675697327\n"
          ]
        }
      ]
    }
  ]
}