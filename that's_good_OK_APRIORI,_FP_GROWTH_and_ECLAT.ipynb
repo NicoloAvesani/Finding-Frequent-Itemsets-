{
  "nbformat": 4,
  "nbformat_minor": 0,
  "metadata": {
    "colab": {
      "provenance": [],
      "collapsed_sections": [
        "2nwPETTsAgKy",
        "zSaq-Xjn5GJ4",
        "SVtIZ2wo0kco"
      ],
      "authorship_tag": "ABX9TyNyyGeUuxsicX0iaEN3j42F",
      "include_colab_link": true
    },
    "kernelspec": {
      "name": "python3",
      "display_name": "Python 3"
    },
    "language_info": {
      "name": "python"
    }
  },
  "cells": [
    {
      "cell_type": "markdown",
      "metadata": {
        "id": "view-in-github",
        "colab_type": "text"
      },
      "source": [
        "<a href=\"https://colab.research.google.com/github/NicoloAvesani/Mining_Project/blob/main/that's_good_OK_APRIORI%2C_FP_GROWTH_and_ECLAT.ipynb\" target=\"_parent\"><img src=\"https://colab.research.google.com/assets/colab-badge.svg\" alt=\"Open In Colab\"/></a>"
      ]
    },
    {
      "cell_type": "markdown",
      "source": [
        "#Dataset generator\n",
        "https://github.com/jeffheaton/papers/blob/master/2016/ieee-freq-item/GenerateFreqData.py\n"
      ],
      "metadata": {
        "id": "2nwPETTsAgKy"
      }
    },
    {
      "cell_type": "code",
      "source": [
        "# This Python script was used to collect the data for following paper/conference:\n",
        "#\n",
        "# Heaton, J. (2016, April). Comparing Dataset Characteristics that Favor the Apriori, \n",
        "# Eclat or FP-Growth Frequent Itemset Mining Algorithms. In SoutheastCon 2015 (pp. 1-6). IEEE.\n",
        "#\n",
        "# http://www.jeffheaton.com\n",
        "#\n",
        "\n",
        "# Generate benchmark data for frequent itemset mining.\n",
        "__author__ = 'jheaton'\n",
        "import random\n",
        "import csv\n",
        "from tqdm import tqdm\n",
        "\n",
        "def sizeof_fmt(num):\n",
        "    for x in ['','k','m','g']:\n",
        "        if num < 1000.0:\n",
        "            return \"%3.1f%s\" % (num, x)\n",
        "        num /= 1000.0\n",
        "    return \"%3.1f%s\" % (num, 't')\n",
        "\n",
        "def generate_itemset(row_count, max_per_basket, num_freq_sets, item_count, prob_frequent):\n",
        "    '''\n",
        "    Generate a dataset of frequent items. These paramaters can be changed to \n",
        "    determine the type of data to generate.\n",
        "\n",
        "    :param int row_count: The number of rows in the dataset.\n",
        "    :param int max_per_basket: Maximum number of items per basket.\n",
        "    :param int num_freq_sets: The number of unique frequent item sets.\n",
        "    :param int item_count: The number of unique items.\n",
        "    :param float prob_frequent: The probability of a basket containing a frequent itemset.\n",
        "    '''\n",
        "    # Generate the data\n",
        "    pop_frequent = [\"F\"+str(n) for n in range(0,max_per_basket)]\n",
        "    pop_regular = [\"I\"+str(n) for n in range(max_per_basket,item_count)]\n",
        "    freq_itemsets = []\n",
        "\n",
        "    # Create a filename that encodes the max_per_basket and basket_count into\n",
        "    # the filename.\n",
        "    filename = str(prob_frequent)+\"_tsz\" \\\n",
        "        + str(max_per_basket)+'_tct' \\\n",
        "         +sizeof_fmt(row_count)+'.txt'\n",
        "\n",
        "    for i in tqdm(range(num_freq_sets),desc=f\"{filename}:pass 1/2\"):\n",
        "        cnt = random.randint(1,max_per_basket)\n",
        "        freq_itemsets.append(random.sample(pop_frequent,cnt))\n",
        "\n",
        "    with open(filename, 'w') as f:\n",
        "        for i in tqdm(range(row_count),desc=f\"{filename}:pass 2/2\"):\n",
        "            line = []\n",
        "\n",
        "            cnt = random.randint(1,max_per_basket)\n",
        "            if random.random()<=prob_frequent:\n",
        "                idx = random.randint(0,len(freq_itemsets)-1)\n",
        "                for j in range(len(freq_itemsets[idx])):\n",
        "                    line.append(freq_itemsets[idx][j])\n",
        "\n",
        "            needed = max(0,cnt - len(line))\n",
        "            line = line + random.sample(pop_regular,needed)\n",
        "\n",
        "            f.write(\" \".join(line)+\"\\n\")\n",
        "\n",
        "random.seed(1000)\n",
        "ROWS = 100000\n",
        "\n",
        "for i in range(10,100,10):\n",
        "    generate_itemset(ROWS, i, 100, 5000, 0.5)\n",
        "\n",
        "for i in range(1,9,1):\n",
        "    generate_itemset(ROWS, 50, 100, 5000, i/10.0)"
      ],
      "metadata": {
        "id": "MBfjF7BNWjEF",
        "colab": {
          "base_uri": "https://localhost:8080/"
        },
        "outputId": "a82fc17c-6ef3-497e-c8df-543439746965"
      },
      "execution_count": 51,
      "outputs": [
        {
          "output_type": "stream",
          "name": "stderr",
          "text": [
            "0.5_tsz10_tct100.0k.txt:pass 1/2: 100%|██████████| 100/100 [00:00<00:00, 39335.12it/s]\n",
            "0.5_tsz10_tct100.0k.txt:pass 2/2: 100%|██████████| 100000/100000 [00:01<00:00, 80448.45it/s]\n",
            "0.5_tsz20_tct100.0k.txt:pass 1/2: 100%|██████████| 100/100 [00:00<00:00, 45615.05it/s]\n",
            "0.5_tsz20_tct100.0k.txt:pass 2/2: 100%|██████████| 100000/100000 [00:00<00:00, 101883.22it/s]\n",
            "0.5_tsz30_tct100.0k.txt:pass 1/2: 100%|██████████| 100/100 [00:00<00:00, 46701.97it/s]\n",
            "0.5_tsz30_tct100.0k.txt:pass 2/2: 100%|██████████| 100000/100000 [00:01<00:00, 91345.00it/s]\n",
            "0.5_tsz40_tct100.0k.txt:pass 1/2: 100%|██████████| 100/100 [00:00<00:00, 36817.98it/s]\n",
            "0.5_tsz40_tct100.0k.txt:pass 2/2: 100%|██████████| 100000/100000 [00:01<00:00, 77314.32it/s]\n",
            "0.5_tsz50_tct100.0k.txt:pass 1/2: 100%|██████████| 100/100 [00:00<00:00, 65301.32it/s]\n",
            "0.5_tsz50_tct100.0k.txt:pass 2/2: 100%|██████████| 100000/100000 [00:01<00:00, 62863.04it/s]\n",
            "0.5_tsz60_tct100.0k.txt:pass 1/2: 100%|██████████| 100/100 [00:00<00:00, 30043.01it/s]\n",
            "0.5_tsz60_tct100.0k.txt:pass 2/2: 100%|██████████| 100000/100000 [00:01<00:00, 55115.05it/s]\n",
            "0.5_tsz70_tct100.0k.txt:pass 1/2: 100%|██████████| 100/100 [00:00<00:00, 30237.94it/s]\n",
            "0.5_tsz70_tct100.0k.txt:pass 2/2: 100%|██████████| 100000/100000 [00:02<00:00, 49960.36it/s]\n",
            "0.5_tsz80_tct100.0k.txt:pass 1/2: 100%|██████████| 100/100 [00:00<00:00, 28505.53it/s]\n",
            "0.5_tsz80_tct100.0k.txt:pass 2/2: 100%|██████████| 100000/100000 [00:03<00:00, 32213.13it/s]\n",
            "0.5_tsz90_tct100.0k.txt:pass 1/2: 100%|██████████| 100/100 [00:00<00:00, 19465.84it/s]\n",
            "0.5_tsz90_tct100.0k.txt:pass 2/2: 100%|██████████| 100000/100000 [00:03<00:00, 32658.58it/s]\n",
            "0.1_tsz50_tct100.0k.txt:pass 1/2: 100%|██████████| 100/100 [00:00<00:00, 34666.53it/s]\n",
            "0.1_tsz50_tct100.0k.txt:pass 2/2: 100%|██████████| 100000/100000 [00:01<00:00, 55844.70it/s]\n",
            "0.2_tsz50_tct100.0k.txt:pass 1/2: 100%|██████████| 100/100 [00:00<00:00, 37735.53it/s]\n",
            "0.2_tsz50_tct100.0k.txt:pass 2/2: 100%|██████████| 100000/100000 [00:01<00:00, 56957.12it/s]\n",
            "0.3_tsz50_tct100.0k.txt:pass 1/2: 100%|██████████| 100/100 [00:00<00:00, 32737.31it/s]\n",
            "0.3_tsz50_tct100.0k.txt:pass 2/2: 100%|██████████| 100000/100000 [00:01<00:00, 59761.03it/s]\n",
            "0.4_tsz50_tct100.0k.txt:pass 1/2: 100%|██████████| 100/100 [00:00<00:00, 35290.74it/s]\n",
            "0.4_tsz50_tct100.0k.txt:pass 2/2: 100%|██████████| 100000/100000 [00:01<00:00, 59004.65it/s]\n",
            "0.5_tsz50_tct100.0k.txt:pass 1/2: 100%|██████████| 100/100 [00:00<00:00, 35066.50it/s]\n",
            "0.5_tsz50_tct100.0k.txt:pass 2/2: 100%|██████████| 100000/100000 [00:01<00:00, 54114.30it/s]\n",
            "0.6_tsz50_tct100.0k.txt:pass 1/2: 100%|██████████| 100/100 [00:00<00:00, 38775.11it/s]\n",
            "0.6_tsz50_tct100.0k.txt:pass 2/2: 100%|██████████| 100000/100000 [00:03<00:00, 28046.78it/s]\n",
            "0.7_tsz50_tct100.0k.txt:pass 1/2: 100%|██████████| 100/100 [00:00<00:00, 32788.49it/s]\n",
            "0.7_tsz50_tct100.0k.txt:pass 2/2: 100%|██████████| 100000/100000 [00:03<00:00, 25456.62it/s]\n",
            "0.8_tsz50_tct100.0k.txt:pass 1/2: 100%|██████████| 100/100 [00:00<00:00, 25776.20it/s]\n",
            "0.8_tsz50_tct100.0k.txt:pass 2/2: 100%|██████████| 100000/100000 [00:02<00:00, 36441.37it/s]\n"
          ]
        }
      ]
    },
    {
      "cell_type": "code",
      "source": [
        "    #Generate a dataset of frequent items. These paramaters can be changed to \n",
        "    #determine the type of data to generate.\n",
        "\n",
        "    #:param int row_count: The number of rows in the dataset. (in this case they are 10000)\n",
        "    #:param int max_per_basket: Maximum number of items per basket. (max 100 items per basket)\n",
        "    #:param int num_freq_sets: The number of unique frequent item sets. (100 freq item sets)\n",
        "    #:param int item_count: The number of unique items. (500 unique items)\n",
        "    #:param float prob_frequent: The probability of a basket containing a frequent itemset. (50% is the probability that a basket contains a freq itemset)"
      ],
      "metadata": {
        "id": "PvOQHH1IW1kU"
      },
      "execution_count": null,
      "outputs": []
    },
    {
      "cell_type": "code",
      "source": [
        "import pandas as pd\n",
        "import numpy as np\n",
        "\n",
        "dataset = pd.read_csv('0.5_tsz10_tct100.0K.txt')"
      ],
      "metadata": {
        "id": "JqYFzPT-W_7q"
      },
      "execution_count": null,
      "outputs": []
    },
    {
      "cell_type": "code",
      "source": [
        "# I want the dataset to be a np.array\n",
        "dataset_array = np.array(dataset)\n",
        "\n",
        "print(dataset_array[0])\n",
        "\n",
        "# since the array contains baskets with only a string of element and not a list of elements, I need to fix this thing\n",
        "new_array = []\n",
        "for i in range(len(dataset_array)):\n",
        "    split_elements = np.char.split(dataset_array[i].astype(str))\n",
        "    ok_split_elements = (split_elements[0])\n",
        "    new_array.append(ok_split_elements)"
      ],
      "metadata": {
        "id": "7aOoT9jmXDDM",
        "colab": {
          "base_uri": "https://localhost:8080/"
        },
        "outputId": "5e6ed62b-da8f-4659-ff3a-e17d817ef514"
      },
      "execution_count": null,
      "outputs": [
        {
          "output_type": "stream",
          "name": "stdout",
          "text": [
            "['F1 F6 F4 F0 F8 F3 F7 F2 F5']\n"
          ]
        }
      ]
    },
    {
      "cell_type": "code",
      "source": [
        "# now it works\n",
        "#new_array[1]"
      ],
      "metadata": {
        "id": "e83QYxtzXLO9"
      },
      "execution_count": null,
      "outputs": []
    },
    {
      "cell_type": "code",
      "source": [
        "#new_array[0]"
      ],
      "metadata": {
        "id": "2DUfDcj3YTyX"
      },
      "execution_count": null,
      "outputs": []
    },
    {
      "cell_type": "code",
      "source": [
        "#len(new_array[0])"
      ],
      "metadata": {
        "id": "g_2QPxuyXLRf"
      },
      "execution_count": null,
      "outputs": []
    },
    {
      "cell_type": "code",
      "source": [
        "size_dataset = [\n",
        "    '0.5_tsz10_tct100.0k.txt',\n",
        "    '0.5_tsz20_tct100.0k.txt',\n",
        "    \n",
        "    '0.5_tsz40_tct100.0k.txt',\n",
        "    '0.5_tsz50_tct100.0k.txt',\n",
        "\n",
        "    '0.5_tsz80_tct100.0k.txt',\n",
        "    '0.5_tsz90_tct100.0k.txt',\n",
        "]"
      ],
      "metadata": {
        "id": "EZChDpcz04AA"
      },
      "execution_count": 99,
      "outputs": []
    },
    {
      "cell_type": "code",
      "source": [
        "density_dataset =[\n",
        "    '0.1_tsz50_tct100.0k.txt',\n",
        "    '0.2_tsz50_tct100.0k.txt',\n",
        "    '0.3_tsz50_tct100.0k.txt',\n",
        "    '0.4_tsz50_tct100.0k.txt',\n",
        "    '0.5_tsz50_tct100.0k.txt',\n",
        "    '0.6_tsz50_tct100.0k.txt',\n",
        "    '0.7_tsz50_tct100.0k.txt',\n",
        "    \n",
        "]"
      ],
      "metadata": {
        "id": "JVv-HHVIVVUt"
      },
      "execution_count": 152,
      "outputs": []
    },
    {
      "cell_type": "markdown",
      "source": [
        "# APRIORI "
      ],
      "metadata": {
        "id": "ngNOEc6Rl4zK"
      }
    },
    {
      "cell_type": "code",
      "source": [
        "!pip install apyori"
      ],
      "metadata": {
        "id": "Wg7vSIzxGOaK",
        "outputId": "37879bca-0c11-4fa9-9af5-04fe0f004de8",
        "colab": {
          "base_uri": "https://localhost:8080/"
        }
      },
      "execution_count": null,
      "outputs": [
        {
          "output_type": "stream",
          "name": "stdout",
          "text": [
            "Looking in indexes: https://pypi.org/simple, https://us-python.pkg.dev/colab-wheels/public/simple/\n",
            "Collecting apyori\n",
            "  Downloading apyori-1.1.2.tar.gz (8.6 kB)\n",
            "  Preparing metadata (setup.py) ... \u001b[?25l\u001b[?25hdone\n",
            "Building wheels for collected packages: apyori\n",
            "  Building wheel for apyori (setup.py) ... \u001b[?25l\u001b[?25hdone\n",
            "  Created wheel for apyori: filename=apyori-1.1.2-py3-none-any.whl size=5956 sha256=57b3528aa363fe01a61f425c1ca87c61ce9a11dcd22bb6fddde574691ce0ad2d\n",
            "  Stored in directory: /root/.cache/pip/wheels/c4/1a/79/20f55c470a50bb3702a8cb7c94d8ada15573538c7f4baebe2d\n",
            "Successfully built apyori\n",
            "Installing collected packages: apyori\n",
            "Successfully installed apyori-1.1.2\n"
          ]
        }
      ]
    },
    {
      "cell_type": "code",
      "source": [
        "from apyori import apriori\n",
        "import time\n",
        "\n",
        "# Example dataset\n",
        "dataset = new_array\n",
        "\n",
        "# Minimum support threshold\n",
        "min_support = 0.2\n",
        "\n",
        "start = time.time()\n",
        "# Apply the Apriori algorithm\n",
        "results = list(apriori(dataset, min_support=min_support))\n",
        "\n",
        "# Print frequent itemsets and their support\n",
        "for itemset in results:\n",
        "    items = list(itemset.items)\n",
        "    support = itemset.support\n",
        "    print(items, support)\n",
        "\n",
        "end = time.time()\n",
        "\n",
        "print('Time required:', end - start)\n"
      ],
      "metadata": {
        "id": "pjr59AXI8iKG"
      },
      "execution_count": null,
      "outputs": []
    },
    {
      "cell_type": "markdown",
      "source": [
        "# APRIORI DENSITY"
      ],
      "metadata": {
        "id": "6hO4BkvqmCUb"
      }
    },
    {
      "cell_type": "code",
      "source": [
        "!pip install apyori"
      ],
      "metadata": {
        "id": "o04gbUaC119M",
        "outputId": "7bb5930c-85e4-4a96-e072-21e86e9c5b07",
        "colab": {
          "base_uri": "https://localhost:8080/"
        }
      },
      "execution_count": 53,
      "outputs": [
        {
          "output_type": "stream",
          "name": "stdout",
          "text": [
            "Looking in indexes: https://pypi.org/simple, https://us-python.pkg.dev/colab-wheels/public/simple/\n",
            "Requirement already satisfied: apyori in /usr/local/lib/python3.10/dist-packages (1.1.2)\n"
          ]
        }
      ]
    },
    {
      "cell_type": "code",
      "source": [
        "from apyori import apriori\n",
        "import pandas as pd\n",
        "import time"
      ],
      "metadata": {
        "id": "elQZRPrW14h5"
      },
      "execution_count": 178,
      "outputs": []
    },
    {
      "cell_type": "code",
      "source": [
        "#apriori density\n",
        "\n",
        "runtime_apriori_density = []\n",
        "min_supporto = [0.04, 0.08, 0.12, 0.16, 0.2, 0.24, 0.28]\n",
        "\n",
        "for i in range(len(density_dataset)):\n",
        "  dataset = pd.read_csv(density_dataset[i])\n",
        "\n",
        "# I want the dataset to be a np.array\n",
        "  dataset_array = np.array(dataset)\n",
        "\n",
        "  min_support = min_supporto[i]\n",
        "\n",
        "# since the array contains baskets with only a string of element and not a list of elements, I need to fix this thing\n",
        "  new_array = []\n",
        "  for i in range(len(dataset_array)):\n",
        "      split_elements = np.char.split(dataset_array[i].astype(str))\n",
        "      ok_split_elements = (split_elements[0])\n",
        "      new_array.append(ok_split_elements)\n",
        "\n",
        "\n",
        "\n",
        "# Example dataset\n",
        "  dataset = new_array\n",
        "\n",
        "\n",
        " \n",
        "  start = time.time()\n",
        "# Apply the Apriori algorithm\n",
        "  results = list(apriori(dataset, min_support=min_support))\n",
        "\n",
        "# Print frequent itemsets and their support\n",
        "  for itemset in results:\n",
        "      items = list(itemset.items)\n",
        "      support = itemset.support\n",
        "    \n",
        "\n",
        "  end = time.time()\n",
        "\n",
        "  result_time = end - start\n",
        "\n",
        "  runtime_apriori_density.append(result_time)"
      ],
      "metadata": {
        "id": "TQ47zn8AY7BF"
      },
      "execution_count": 179,
      "outputs": []
    },
    {
      "cell_type": "code",
      "source": [
        "import matplotlib.pyplot as plt"
      ],
      "metadata": {
        "id": "0DZnJiSC3wu1"
      },
      "execution_count": 180,
      "outputs": []
    },
    {
      "cell_type": "code",
      "source": [
        "#plt apriori density\n",
        "plt.plot(runtime_apriori_density, label='apriori')\n",
        "plt.legend()\n",
        "plt.show()"
      ],
      "metadata": {
        "colab": {
          "base_uri": "https://localhost:8080/",
          "height": 430
        },
        "id": "1-GV2pwYVPky",
        "outputId": "15169e9d-2450-42ce-a583-cef5503da6a2"
      },
      "execution_count": 207,
      "outputs": [
        {
          "output_type": "display_data",
          "data": {
            "text/plain": [
              "<Figure size 640x480 with 1 Axes>"
            ],
            "image/png": "[encoded data removed]"
          },
          "metadata": {}
        }
      ]
    },
    {
      "cell_type": "markdown",
      "source": [
        "# APRIORI SIZE"
      ],
      "metadata": {
        "id": "dPuYHj3Smkvx"
      }
    },
    {
      "cell_type": "code",
      "source": [
        "#apriori size\n",
        "runtime_apriori = []\n",
        "\n",
        "\n",
        "for i in range(len(size_dataset)):\n",
        "  dataset = pd.read_csv(size_dataset[i])\n",
        "\n",
        "# I want the dataset to be a np.array\n",
        "  dataset_array = np.array(dataset)\n",
        "\n",
        "# since the array contains baskets with only a string of element and not a list of elements, I need to fix this thing\n",
        "  new_array = []\n",
        "  for i in range(len(dataset_array)):\n",
        "      split_elements = np.char.split(dataset_array[i].astype(str))\n",
        "      ok_split_elements = (split_elements[0])\n",
        "      new_array.append(ok_split_elements)\n",
        "\n",
        "\n",
        "# Example dataset\n",
        "  dataset = new_array\n",
        "\n",
        "# Minimum support\n",
        "  min_support=0.2\n",
        " \n",
        "  start = time.time()\n",
        "# Apply the Apriori algorithm\n",
        "  results = list(apriori(dataset, min_support=min_support))\n",
        "\n",
        "# Print frequent itemsets and their support\n",
        "  for itemset in results:\n",
        "      items = list(itemset.items)\n",
        "      support = itemset.support\n",
        "    \n",
        "\n",
        "  end = time.time()\n",
        "\n",
        "  result_time = end - start\n",
        "\n",
        "  runtime_apriori.append(result_time)\n",
        "  "
      ],
      "metadata": {
        "id": "8UHDuaP41L-4"
      },
      "execution_count": 182,
      "outputs": []
    },
    {
      "cell_type": "code",
      "source": [
        "#plt apriori size\n",
        "plt.plot(runtime_apriori, label='apriori')\n",
        "plt.legend()\n",
        "plt.show()"
      ],
      "metadata": {
        "id": "5MaiEmaa30nn",
        "outputId": "175becea-818b-4cd4-e368-101243c7c986",
        "colab": {
          "base_uri": "https://localhost:8080/",
          "height": 430
        }
      },
      "execution_count": 204,
      "outputs": [
        {
          "output_type": "display_data",
          "data": {
            "text/plain": [
              "<Figure size 640x480 with 1 Axes>"
            ],
            "image/png": "[encoded data removed]"
          },
          "metadata": {}
        }
      ]
    },
    {
      "cell_type": "markdown",
      "source": [
        "# FP-GROWTH ALGORITHM"
      ],
      "metadata": {
        "id": "E7W4UYNPlhIP"
      }
    },
    {
      "cell_type": "markdown",
      "source": [
        "#fp-growth\n",
        "https://github.com/JackHCC/Apriori-and-FP_Growth/blob/master/FP_growth.py\n"
      ],
      "metadata": {
        "id": "zSaq-Xjn5GJ4"
      }
    },
    {
      "cell_type": "code",
      "source": [
        "#fp-growth\n",
        "\n",
        "# fp-growth\n",
        "\n",
        "from collections import defaultdict, namedtuple\n",
        "import time\n",
        "\n",
        "def find_frequent_itemsets(transactions, minimum_support, include_support=False):\n",
        "    # Function to find frequent itemsets in the transactions dataset\n",
        "\n",
        "    items = defaultdict(lambda: 0)\n",
        "\n",
        "    for transaction in transactions:\n",
        "        for item in transaction:\n",
        "            items[item] += 1\n",
        "\n",
        "    # Filtering frequent 1-itemsets\n",
        "    items = dict((item, support) for item, support in items.items()\n",
        "        if support >= minimum_support)\n",
        "\n",
        "    def clean_transaction(transaction):\n",
        "        transaction = filter(lambda v: v in items, transaction)\n",
        "        transaction_list = list(transaction)\n",
        "        transaction_list.sort(key=lambda v: items[v], reverse=True)\n",
        "        return transaction_list\n",
        "\n",
        "    # Constructing the FP-tree\n",
        "    master = FPTree()\n",
        "    for transaction in map(clean_transaction, transactions):\n",
        "        master.add(transaction)\n",
        "\n",
        "    def find_with_suffix(tree, suffix):\n",
        "        for item, nodes in tree.items():\n",
        "            support = sum(n.count for n in nodes)\n",
        "            if support >= minimum_support and item not in suffix:\n",
        "                found_set = [item] + suffix\n",
        "                yield (found_set, support) if include_support else found_set\n",
        "\n",
        "                cond_tree = conditional_tree_from_paths(tree.prefix_paths(item))\n",
        "                for s in find_with_suffix(cond_tree, found_set):\n",
        "                    yield s\n",
        "\n",
        "    for itemset in find_with_suffix(master, []):\n",
        "        yield itemset\n",
        "\n",
        "class FPTree(object):\n",
        "    # FP-tree data structure\n",
        "\n",
        "    Route = namedtuple('Route', 'head tail')\n",
        "\n",
        "    def __init__(self):\n",
        "        # Initialize the root node and routes\n",
        "        self._root = FPNode(self, None, None)\n",
        "        self._routes = {}\n",
        "\n",
        "    @property\n",
        "    def root(self):\n",
        "        # Create the root node\n",
        "        return self._root\n",
        "\n",
        "    def add(self, transaction):\n",
        "        # Add a transaction to the tree\n",
        "        point = self._root\n",
        "\n",
        "        for item in transaction:\n",
        "            next_point = point.search(item)\n",
        "            if next_point:\n",
        "                # Current node already exists\n",
        "                next_point.increment()\n",
        "            else:\n",
        "                # Create a new node\n",
        "                next_point = FPNode(self, item)\n",
        "                point.add(next_point)\n",
        "\n",
        "                # Update the routes\n",
        "                self._update_route(next_point)\n",
        "\n",
        "            point = next_point\n",
        "\n",
        "    def _update_route(self, point):\n",
        "        assert self is point.tree\n",
        "\n",
        "        try:\n",
        "            route = self._routes[point.item]\n",
        "            route[1].neighbor = point  # route[1] is the tail\n",
        "            self._routes[point.item] = self.Route(route[0], point)\n",
        "        except KeyError:\n",
        "            # Start a new node\n",
        "            self._routes[point.item] = self.Route(point, point)\n",
        "\n",
        "    def items(self):\n",
        "        # Iterate over the items in the tree\n",
        "        for item in self._routes.keys():\n",
        "            yield (item, self.nodes(item))\n",
        "\n",
        "    def nodes(self, item):\n",
        "        # Iterate over the nodes associated with an item\n",
        "        try:\n",
        "            node = self._routes[item][0]\n",
        "        except KeyError:\n",
        "            return\n",
        "\n",
        "        while node:\n",
        "            yield node\n",
        "            node = node.neighbor\n",
        "\n",
        "    def prefix_paths(self, item):\n",
        "        # Generate prefix paths for an item\n",
        "        def collect_path(node):\n",
        "            path = []\n",
        "            while node and not node.root:\n",
        "                path.append(node)\n",
        "                node = node.parent\n",
        "            path.reverse()\n",
        "            return path\n",
        "\n",
        "        return (collect_path(node) for node in self.nodes(item))\n",
        "\n",
        "    def inspect(self):\n",
        "        # Print the tree structure\n",
        "        self.root.inspect(1)\n",
        "\n",
        "        for item, nodes in self.items():\n",
        "            for node in nodes:\n",
        "                print('    %r' % node)\n",
        "\n",
        "def conditional_tree_from_paths(paths):\n",
        "    # Construct a conditional tree from paths\n",
        "    tree = FPTree()\n",
        "    condition_item = None\n",
        "    items = set()\n",
        "\n",
        "    for path in paths:\n",
        "        if condition_item is None:\n",
        "            condition_item = path[-1].item\n",
        "\n",
        "        point = tree.root\n",
        "        for node in path:\n",
        "            next_point = point.search(node.item)\n",
        "            if not next_point:\n",
        "                # Add a new node to the tree\n",
        "                items.add(node.item)\n",
        "                count = node.count if node.item == condition_item else 0\n",
        "                next_point = FPNode(tree, node.item, count)\n",
        "                point.add(next_point)\n",
        "                tree._update_route(next_point)\n",
        "            point = next_point\n",
        "\n",
        "    assert condition_item is not None\n",
        "\n",
        "    # Calculate the counts for nodes\n",
        "    for path in tree.prefix_paths(condition_item):\n",
        "        count = path[-1].count\n",
        "        for node in reversed(path[:-1]):\n",
        "            node._count += count\n",
        "\n",
        "    return tree\n",
        "\n",
        "class FPNode(object):\n",
        "    # FP-tree node\n",
        "\n",
        "    def __init__(self, tree, item, count=1):\n",
        "        self._tree = tree\n",
        "        self._item = item\n",
        "        self._count = count\n",
        "        self._parent = None\n",
        "        self._children = {}\n",
        "        self._neighbor = None\n",
        "\n",
        "    def add(self, child):\n",
        "        # Add a child node\n",
        "\n",
        "        if not isinstance(child, FPNode):\n",
        "            raise TypeError(\"Can only add other FPNodes as children\")\n",
        "\n",
        "        if not child.item in self._children:\n",
        "            self._children[child.item] = child\n",
        "            child.parent = self\n",
        "\n",
        "    def search(self, item):\n",
        "        # Search for a child node with the given item\n",
        "        try:\n",
        "            return self._children[item]\n",
        "        except KeyError:\n",
        "            return None\n",
        "\n",
        "    def __contains__(self, item):\n",
        "        return item in self._children\n",
        "\n",
        "    @property\n",
        "    def tree(self):\n",
        "        return self._tree\n",
        "\n",
        "    @property\n",
        "    def item(self):\n",
        "        return self._item\n",
        "\n",
        "    @property\n",
        "    def count(self):\n",
        "        return self._count\n",
        "\n",
        "    def increment(self):\n",
        "        if self._count is None:\n",
        "            raise ValueError(\"Root nodes have no associated count.\")\n",
        "        self._count += 1\n",
        "\n",
        "    @property\n",
        "    def root(self):\n",
        "        return self._item is None and self._count is None\n",
        "\n",
        "    @property\n",
        "    def leaf(self):\n",
        "        return len(self._children) == 0\n",
        "\n",
        "    @property\n",
        "    def parent(self):\n",
        "        return self._parent\n",
        "\n",
        "    @parent.setter\n",
        "    def parent(self, value):\n",
        "        if value is not None and not isinstance(value, FPNode):\n",
        "            raise TypeError(\"A node must have an FPNode as a parent.\")\n",
        "        if value and value.tree is not self.tree:\n",
        "            raise ValueError(\"Cannot have a parent from another tree.\")\n",
        "        self._parent = value\n",
        "\n",
        "    @property\n",
        "    def neighbor(self):\n",
        "        return self._neighbor\n",
        "\n",
        "    @neighbor.setter\n",
        "    def neighbor(self, value):\n",
        "        if value is not None and not isinstance(value, FPNode):\n",
        "            raise TypeError(\"A node must have an FPNode as a neighbor.\")\n",
        "        if value and value.tree is not self.tree:\n",
        "            raise ValueError(\"Cannot have a neighbor from another tree.\")\n",
        "        self._neighbor = value\n",
        "\n",
        "    @property\n",
        "    def children(self):\n",
        "        return tuple(self._children.values())\n",
        "\n",
        "    def inspect(self, depth=0):\n",
        "        for child in self.children:\n",
        "            child.inspect(depth + 1)\n",
        "\n",
        "    def __repr__(self):\n",
        "        if self.root:\n",
        "            return \"<%s (root)>\" % type(self).__name__\n",
        "        return \"<%s %r (%r)>\" % (type(self).__name__, self.item, self.count)\n"
      ],
      "metadata": {
        "id": "ys5DGrOkYg1Z"
      },
      "execution_count": 184,
      "outputs": []
    },
    {
      "cell_type": "code",
      "source": [
        "# Dataset\n",
        "dataset = new_array\n",
        "# Main function\n",
        "if __name__ == '__main__':\n",
        "    # Call find_frequent_itemsets() to generate frequent itemsets\n",
        "    start = time.time()\n",
        "\n",
        "    total_baskets = len(dataset)\n",
        "    min_support = 0.2 * total_baskets\n",
        "\n",
        "    frequent_itemsets = find_frequent_itemsets(dataset, minimum_support=min_support, include_support=True)\n",
        "\n",
        "    result = []\n",
        "    for itemset, support in frequent_itemsets:\n",
        "        result.append((itemset, support))\n",
        "\n",
        "    result = sorted(result, key=lambda i: i[0])\n",
        "    for itemset, support in result:\n",
        "        print(str(itemset) + ' ' + str(support/total_baskets))\n",
        "\n",
        "    end = time.time()\n",
        "    print('Execution time:', str(end - start))\n"
      ],
      "metadata": {
        "id": "E2i7WrComqd1"
      },
      "execution_count": null,
      "outputs": []
    },
    {
      "cell_type": "markdown",
      "source": [
        "# FP-GROWTH DENSITY"
      ],
      "metadata": {
        "id": "dV41LmTXlOPG"
      }
    },
    {
      "cell_type": "code",
      "source": [
        "#fp-growth density\n",
        "runtime_fpgrowth_density = []\n",
        "min_supporto = [0.04, 0.08, 0.12, 0.16, 0.2, 0.24, 0.28]\n",
        "for i in range(len(density_dataset)):\n",
        "  dataset = pd.read_csv(density_dataset[i])\n",
        "\n",
        "# I want the dataset to be a np.array\n",
        "  dataset_array = np.array(dataset)\n",
        "  \n",
        "  total_baskets = len(dataset)\n",
        "  min_support = min_supporto[i] * total_baskets\n",
        "\n",
        "# since the array contains baskets with only a string of element and not a list of elements, I need to fix this thing\n",
        "  new_array = []\n",
        "  for i in range(len(dataset_array)):\n",
        "      split_elements = np.char.split(dataset_array[i].astype(str))\n",
        "      ok_split_elements = (split_elements[0])\n",
        "      new_array.append(ok_split_elements)\n",
        "  # Dataset\n",
        "  dataset = new_array\n",
        "# Main function\n",
        "  if __name__ == '__main__':\n",
        "    # Call find_frequent_itemsets() to generate frequent itemsets\n",
        "      start = time.time()\n",
        "\n",
        "      \n",
        "      \n",
        "\n",
        "      frequent_itemsets = find_frequent_itemsets(dataset, minimum_support=min_support, include_support=True)\n",
        "\n",
        "      result = []\n",
        "      for itemset, support in frequent_itemsets:\n",
        "          result.append((itemset, support))\n",
        "\n",
        "      result = sorted(result, key=lambda i: i[0])\n",
        "      for itemset, support in result:\n",
        "          print(str(itemset) + ' ' + str(support/total_baskets))\n",
        "\n",
        "      end = time.time()\n",
        "      \n",
        "      result_time = end - start\n",
        "      runtime_fpgrowth_density.append(result_time)\n",
        " \n",
        "  "
      ],
      "metadata": {
        "id": "VUpmdnPK4GD3"
      },
      "execution_count": null,
      "outputs": []
    },
    {
      "cell_type": "code",
      "source": [
        "runtime_fpgrowth_density"
      ],
      "metadata": {
        "colab": {
          "base_uri": "https://localhost:8080/"
        },
        "id": "mONUOEQaacwe",
        "outputId": "e31c2147-9dac-4b94-853a-179707ce923b"
      },
      "execution_count": 186,
      "outputs": [
        {
          "output_type": "execute_result",
          "data": {
            "text/plain": [
              "[2.0158884525299072,\n",
              " 2.3032097816467285,\n",
              " 2.512876033782959,\n",
              " 3.6415207386016846,\n",
              " 2.500129222869873,\n",
              " 1.9048216342926025,\n",
              " 4.895413160324097]"
            ]
          },
          "metadata": {},
          "execution_count": 186
        }
      ]
    },
    {
      "cell_type": "code",
      "source": [
        "#plt fp-growh and apriori density\n",
        "plt.plot(runtime_fpgrowth_density, label='fp-growth')\n",
        "plt.plot(runtime_apriori_density, label='apriori')\n",
        "plt.legend()\n",
        "plt.show()"
      ],
      "metadata": {
        "colab": {
          "base_uri": "https://localhost:8080/",
          "height": 430
        },
        "id": "e3XibqxjZsHe",
        "outputId": "7c99b4bd-79ca-4d9c-9f77-2daf4305ad58"
      },
      "execution_count": 205,
      "outputs": [
        {
          "output_type": "display_data",
          "data": {
            "text/plain": [
              "<Figure size 640x480 with 1 Axes>"
            ],
            "image/png": "[encoded data removed]"
          },
          "metadata": {}
        }
      ]
    },
    {
      "cell_type": "markdown",
      "source": [
        "# FP-GROWTH SIZE"
      ],
      "metadata": {
        "id": "m96JeQgGlSDI"
      }
    },
    {
      "cell_type": "code",
      "source": [
        "#fp-growth size\n",
        "runtime_fpgrowth = []\n",
        "\n",
        "for i in range(len(size_dataset)):\n",
        "  dataset = pd.read_csv(size_dataset[i])\n",
        "\n",
        "# I want the dataset to be a np.array\n",
        "  dataset_array = np.array(dataset)\n",
        "\n",
        "  \n",
        "\n",
        "# since the array contains baskets with only a string of element and not a list of elements, I need to fix this thing\n",
        "  new_array = []\n",
        "  for i in range(len(dataset_array)):\n",
        "      split_elements = np.char.split(dataset_array[i].astype(str))\n",
        "      ok_split_elements = (split_elements[0])\n",
        "      new_array.append(ok_split_elements)\n",
        "  # Dataset\n",
        "  dataset = new_array\n",
        "# Main function\n",
        "  if __name__ == '__main__':\n",
        "    # Call find_frequent_itemsets() to generate frequent itemsets\n",
        "      start = time.time()\n",
        "\n",
        "      total_baskets = len(dataset)\n",
        "      min_support = 0.2 * total_baskets\n",
        "\n",
        "      frequent_itemsets = find_frequent_itemsets(dataset, minimum_support=min_support, include_support=True)\n",
        "\n",
        "      result = []\n",
        "      for itemset, support in frequent_itemsets:\n",
        "          result.append((itemset, support))\n",
        "\n",
        "      result = sorted(result, key=lambda i: i[0])\n",
        "      for itemset, support in result:\n",
        "          print(str(itemset) + ' ' + str(support/total_baskets))\n",
        "\n",
        "      end = time.time()\n",
        "      \n",
        "      result_time = end - start\n",
        "      runtime_fpgrowth.append(result_time)"
      ],
      "metadata": {
        "id": "wub5P3J4ZeeQ"
      },
      "execution_count": null,
      "outputs": []
    },
    {
      "cell_type": "code",
      "source": [
        "runtime_fpgrowth"
      ],
      "metadata": {
        "id": "I4NXhJdE5gaE",
        "outputId": "f5a13622-19f4-490d-8903-5c6b21c6ea44",
        "colab": {
          "base_uri": "https://localhost:8080/"
        }
      },
      "execution_count": 189,
      "outputs": [
        {
          "output_type": "execute_result",
          "data": {
            "text/plain": [
              "[0.5389714241027832,\n",
              " 0.817584753036499,\n",
              " 1.589979648590088,\n",
              " 2.9412808418273926,\n",
              " 5.3209919929504395,\n",
              " 6.179135322570801]"
            ]
          },
          "metadata": {},
          "execution_count": 189
        }
      ]
    },
    {
      "cell_type": "code",
      "source": [
        "#plt fp-growth and apriori size\n",
        "plt.plot(runtime_fpgrowth, label='fp-growth')\n",
        "plt.plot(runtime_apriori, label='apriori')\n",
        "plt.legend()\n",
        "plt.show()"
      ],
      "metadata": {
        "id": "h2T0GAH88dBV",
        "outputId": "7f354750-d0dc-41aa-c93a-33158aa8ab10",
        "colab": {
          "base_uri": "https://localhost:8080/",
          "height": 430
        }
      },
      "execution_count": 201,
      "outputs": [
        {
          "output_type": "display_data",
          "data": {
            "text/plain": [
              "<Figure size 640x480 with 1 Axes>"
            ],
            "image/png": "[encoded data removed]"
          },
          "metadata": {}
        }
      ]
    },
    {
      "cell_type": "markdown",
      "source": [
        "# FP-TREE"
      ],
      "metadata": {
        "id": "IxsofobYladv"
      }
    },
    {
      "cell_type": "code",
      "source": [
        "!pip install anytree"
      ],
      "metadata": {
        "id": "YHDMJEY53arU",
        "colab": {
          "base_uri": "https://localhost:8080/"
        },
        "outputId": "883b67f6-e767-4596-bc4f-74616ae3f22f"
      },
      "execution_count": 191,
      "outputs": [
        {
          "output_type": "stream",
          "name": "stdout",
          "text": [
            "Looking in indexes: https://pypi.org/simple, https://us-python.pkg.dev/colab-wheels/public/simple/\n",
            "Collecting anytree\n",
            "  Downloading anytree-2.8.0-py2.py3-none-any.whl (41 kB)\n",
            "\u001b[2K     \u001b[90m━━━━━━━━━━━━━━━━━━━━━━━━━━━━━━━━━━━━━━━━\u001b[0m \u001b[32m41.7/41.7 kB\u001b[0m \u001b[31m2.0 MB/s\u001b[0m eta \u001b[36m0:00:00\u001b[0m\n",
            "\u001b[?25hRequirement already satisfied: six>=1.9.0 in /usr/local/lib/python3.10/dist-packages (from anytree) (1.16.0)\n",
            "Installing collected packages: anytree\n",
            "Successfully installed anytree-2.8.0\n"
          ]
        }
      ]
    },
    {
      "cell_type": "code",
      "source": [
        "from anytree import Node, RenderTree\n",
        "\n",
        "# Define the itemsets and their support values\n",
        "itemsets = result\n",
        "\n",
        "# Create the root node\n",
        "root = Node(\"Root\")\n",
        "\n",
        "# Create the tree nodes and add them to the tree\n",
        "for itemset, support in itemsets:\n",
        "    current_node = root\n",
        "    for item in itemset:\n",
        "        child_node = None\n",
        "        for child in current_node.children:\n",
        "            if child.name == item:\n",
        "                child_node = child\n",
        "                break\n",
        "        if child_node is None:\n",
        "            child_node = Node(item, parent=current_node)\n",
        "        current_node = child_node\n",
        "\n",
        "# Print the tree\n",
        "for pre, fill, node in RenderTree(root):\n",
        "    print(\"%s%s\" % (pre, node.name))\n"
      ],
      "metadata": {
        "id": "pdz8URQ26L1p",
        "colab": {
          "base_uri": "https://localhost:8080/"
        },
        "outputId": "2e7cf9fd-b9e6-4d88-f357-cc765f9ccee7"
      },
      "execution_count": 192,
      "outputs": [
        {
          "output_type": "stream",
          "name": "stdout",
          "text": [
            "Root\n",
            "├── F0\n",
            "├── F1\n",
            "├── F10\n",
            "├── F11\n",
            "├── F12\n",
            "├── F13\n",
            "├── F14\n",
            "├── F15\n",
            "│   ├── F26\n",
            "│   ├── F33\n",
            "│   ├── F34\n",
            "│   ├── F59\n",
            "│   ├── F61\n",
            "│   ├── F70\n",
            "│   └── F83\n",
            "├── F16\n",
            "├── F17\n",
            "├── F18\n",
            "├── F19\n",
            "├── F2\n",
            "├── F20\n",
            "├── F21\n",
            "├── F22\n",
            "├── F23\n",
            "├── F24\n",
            "├── F25\n",
            "├── F26\n",
            "├── F27\n",
            "├── F28\n",
            "├── F29\n",
            "├── F3\n",
            "├── F30\n",
            "├── F31\n",
            "│   ├── F1\n",
            "│   ├── F15\n",
            "│   ├── F29\n",
            "│   ├── F33\n",
            "│   ├── F54\n",
            "│   ├── F57\n",
            "│   ├── F59\n",
            "│   ├── F6\n",
            "│   ├── F66\n",
            "│   ├── F70\n",
            "│   ├── F71\n",
            "│   ├── F75\n",
            "│   ├── F78\n",
            "│   ├── F83\n",
            "│   └── F84\n",
            "├── F32\n",
            "├── F33\n",
            "│   └── F74\n",
            "├── F34\n",
            "│   ├── F49\n",
            "│   ├── F71\n",
            "│   └── F83\n",
            "├── F35\n",
            "├── F36\n",
            "│   ├── F49\n",
            "│   └── F71\n",
            "├── F37\n",
            "├── F38\n",
            "├── F39\n",
            "├── F4\n",
            "├── F40\n",
            "│   ├── F15\n",
            "│   ├── F58\n",
            "│   ├── F61\n",
            "│   ├── F78\n",
            "│   ├── F84\n",
            "│   └── F9\n",
            "├── F41\n",
            "│   ├── F15\n",
            "│   ├── F16\n",
            "│   ├── F25\n",
            "│   ├── F28\n",
            "│   ├── F31\n",
            "│   ├── F33\n",
            "│   ├── F36\n",
            "│   ├── F39\n",
            "│   ├── F40\n",
            "│   ├── F49\n",
            "│   ├── F53\n",
            "│   ├── F58\n",
            "│   ├── F59\n",
            "│   ├── F71\n",
            "│   ├── F83\n",
            "│   ├── F86\n",
            "│   └── F9\n",
            "├── F42\n",
            "├── F43\n",
            "├── F44\n",
            "├── F45\n",
            "├── F46\n",
            "├── F47\n",
            "├── F48\n",
            "├── F49\n",
            "│   ├── F53\n",
            "│   ├── F57\n",
            "│   └── F61\n",
            "├── F5\n",
            "├── F50\n",
            "├── F51\n",
            "├── F52\n",
            "├── F53\n",
            "│   └── F89\n",
            "├── F54\n",
            "├── F55\n",
            "├── F56\n",
            "├── F57\n",
            "├── F58\n",
            "│   ├── F15\n",
            "│   ├── F22\n",
            "│   ├── F25\n",
            "│   ├── F26\n",
            "│   ├── F28\n",
            "│   ├── F31\n",
            "│   ├── F33\n",
            "│   ├── F35\n",
            "│   ├── F36\n",
            "│   ├── F4\n",
            "│   ├── F49\n",
            "│   ├── F50\n",
            "│   ├── F57\n",
            "│   ├── F61\n",
            "│   ├── F65\n",
            "│   ├── F69\n",
            "│   ├── F71\n",
            "│   ├── F74\n",
            "│   ├── F78\n",
            "│   ├── F80\n",
            "│   ├── F83\n",
            "│   └── F9\n",
            "├── F59\n",
            "│   └── F78\n",
            "├── F6\n",
            "├── F60\n",
            "├── F61\n",
            "├── F62\n",
            "├── F63\n",
            "├── F64\n",
            "├── F65\n",
            "├── F66\n",
            "├── F67\n",
            "├── F68\n",
            "├── F69\n",
            "│   ├── F36\n",
            "│   └── F44\n",
            "├── F7\n",
            "├── F70\n",
            "│   ├── F0\n",
            "│   ├── F11\n",
            "│   ├── F28\n",
            "│   ├── F36\n",
            "│   ├── F37\n",
            "│   ├── F53\n",
            "│   ├── F57\n",
            "│   ├── F59\n",
            "│   ├── F6\n",
            "│   ├── F65\n",
            "│   ├── F71\n",
            "│   ├── F78\n",
            "│   ├── F80\n",
            "│   ├── F84\n",
            "│   └── F89\n",
            "├── F71\n",
            "│   ├── F28\n",
            "│   ├── F49\n",
            "│   └── F6\n",
            "├── F72\n",
            "├── F73\n",
            "├── F74\n",
            "├── F75\n",
            "├── F76\n",
            "├── F77\n",
            "├── F78\n",
            "│   └── F84\n",
            "├── F79\n",
            "├── F8\n",
            "├── F80\n",
            "├── F81\n",
            "├── F82\n",
            "├── F83\n",
            "│   ├── F26\n",
            "│   ├── F36\n",
            "│   └── F75\n",
            "├── F84\n",
            "├── F85\n",
            "├── F86\n",
            "│   ├── F15\n",
            "│   ├── F26\n",
            "│   ├── F31\n",
            "│   ├── F34\n",
            "│   ├── F4\n",
            "│   ├── F40\n",
            "│   ├── F49\n",
            "│   ├── F52\n",
            "│   ├── F54\n",
            "│   ├── F57\n",
            "│   ├── F58\n",
            "│   ├── F59\n",
            "│   ├── F61\n",
            "│   ├── F70\n",
            "│   ├── F72\n",
            "│   ├── F78\n",
            "│   ├── F83\n",
            "│   ├── F84\n",
            "│   └── F9\n",
            "├── F87\n",
            "├── F88\n",
            "├── F89\n",
            "└── F9\n",
            "    ├── F15\n",
            "    ├── F31\n",
            "    ├── F32\n",
            "    ├── F34\n",
            "    ├── F37\n",
            "    ├── F49\n",
            "    ├── F57\n",
            "    ├── F59\n",
            "    ├── F61\n",
            "    ├── F65\n",
            "    ├── F69\n",
            "    ├── F7\n",
            "    ├── F70\n",
            "    ├── F71\n",
            "    ├── F72\n",
            "    ├── F74\n",
            "    └── F78\n"
          ]
        }
      ]
    },
    {
      "cell_type": "markdown",
      "source": [
        "# ECLAT ALGORITHM"
      ],
      "metadata": {
        "id": "UMHHR3hFlAWw"
      }
    },
    {
      "cell_type": "markdown",
      "source": [
        "# ECLAT\n",
        "https://github.com/jagdeep227/Frequent_itemset_mining/blob/main/Eclat_g.py\n"
      ],
      "metadata": {
        "id": "SVtIZ2wo0kco"
      }
    },
    {
      "cell_type": "code",
      "source": [
        "# eclat\n",
        "#eclat\n",
        "import time\n",
        "\n",
        "FreqItems = dict()\n",
        "support = dict()\n",
        "\n",
        "\n",
        "def eclat(prefix, items, dict_id ,minsup,cnt):\n",
        "    \n",
        "    while items:\n",
        "        i ,itids = items.pop()\n",
        "        isupp = len(itids)\n",
        "        if isupp >= minsup*cnt:\n",
        "            print(prefix + [i], isupp/len(dataset))\n",
        "            FreqItems[frozenset(prefix + [i])] = isupp\n",
        "            suffix = []\n",
        "            for j, ojtids in items:\n",
        "                jtids = itids & ojtids\n",
        "                if len(jtids ) >= minsup*cnt:\n",
        "                    suffix.append((j, jtids))\n",
        "            dict_id += 1\n",
        "            eclat(prefix +[i], sorted(suffix, key=lambda item: len(item[1]), reverse=True), dict_id ,minsup,cnt)"
      ],
      "metadata": {
        "id": "dRaVlQOSkHLe"
      },
      "execution_count": 193,
      "outputs": []
    },
    {
      "cell_type": "code",
      "source": [
        "# Dataset\n",
        "dataset = new_array\n",
        "# Main function\n",
        "if __name__ == '__main__':\n",
        "    # Call find_frequent_itemsets() to generate frequent itemsets\n",
        "    \n",
        "    start = time.time()\n",
        "    items = {}\n",
        "\n",
        "    for transaction_id, transaction in enumerate(dataset):\n",
        "        for item in transaction:\n",
        "            if item in items:\n",
        "                items[item].add(transaction_id)\n",
        "            else:\n",
        "                items[item] = {transaction_id}\n",
        "    \n",
        "    # Convert the dictionary items into a list of tuples\n",
        "    items = [(item, itids) for item, itids in items.items()]\n",
        "    \n",
        "    \n",
        "    cnt = len(dataset)\n",
        "    minsup = 0.2\n",
        "    # Function call to start ECLAT algorithm\n",
        "    eclat([], sorted(items, key=lambda item: len(item[1]), reverse=True), 1, minsup, cnt)\n",
        "\n",
        "    '''result = []\n",
        "    for itemset, support in frequent_itemsets:\n",
        "        result.append((itemset, support))'''\n",
        "\n",
        "    '''result'''\n",
        "\n",
        "    end = time.time()\n",
        "    print('Execution time:', str(end - start))"
      ],
      "metadata": {
        "id": "mIUzP6VykmrA"
      },
      "execution_count": null,
      "outputs": []
    },
    {
      "cell_type": "markdown",
      "source": [
        "# ECLAT SIZE"
      ],
      "metadata": {
        "id": "2NEzrmoNjbSG"
      }
    },
    {
      "cell_type": "code",
      "source": [
        "#eclat size\n",
        "\n",
        "runtime_eclat = []\n",
        "\n",
        "for i in range(len(size_dataset)):\n",
        "  dataset = pd.read_csv(size_dataset[i])\n",
        "\n",
        "# I want the dataset to be a np.array\n",
        "  dataset_array = np.array(dataset)\n",
        "\n",
        "  \n",
        "\n",
        "# since the array contains baskets with only a string of element and not a list of elements, I need to fix this thing\n",
        "  new_array = []\n",
        "  for i in range(len(dataset_array)):\n",
        "      split_elements = np.char.split(dataset_array[i].astype(str))\n",
        "      ok_split_elements = (split_elements[0])\n",
        "      new_array.append(ok_split_elements)\n",
        "  # Dataset\n",
        "  dataset = new_array\n",
        "# Main function\n",
        "  if __name__ == '__main__':\n",
        "    # Call find_frequent_itemsets() to generate frequent itemsets\n",
        "    \n",
        "      \n",
        "      items = {}\n",
        "\n",
        "      for transaction_id, transaction in enumerate(dataset):\n",
        "          for item in transaction:\n",
        "              if item in items:\n",
        "                items[item].add(transaction_id)\n",
        "              else:\n",
        "                items[item] = {transaction_id}\n",
        "      start = time.time()\n",
        "    # Convert the dictionary items into a list of tuples\n",
        "      items = [(item, itids) for item, itids in items.items()]\n",
        "    \n",
        "    \n",
        "      cnt = len(dataset)\n",
        "      minsup = 0.2\n",
        "    # Function call to start ECLAT algorithm\n",
        "      eclat([], sorted(items, key=lambda item: len(item[1]), reverse=True), 1, minsup, cnt)\n",
        "\n",
        "      end = time.time()\n",
        "      result_time = end - start\n",
        "\n",
        "      runtime_eclat.append(result_time)\n",
        "\n"
      ],
      "metadata": {
        "id": "sNsZYO3yMIqC"
      },
      "execution_count": null,
      "outputs": []
    },
    {
      "cell_type": "code",
      "source": [
        "runtime_eclat"
      ],
      "metadata": {
        "colab": {
          "base_uri": "https://localhost:8080/"
        },
        "id": "p5AXo-k3M_wn",
        "outputId": "4a6ca3fe-48a4-426a-f286-668844474f07"
      },
      "execution_count": 199,
      "outputs": [
        {
          "output_type": "execute_result",
          "data": {
            "text/plain": [
              "[0.1780097484588623,\n",
              " 0.45006704330444336,\n",
              " 1.4172775745391846,\n",
              " 2.9837071895599365,\n",
              " 6.459169864654541,\n",
              " 7.971497297286987]"
            ]
          },
          "metadata": {},
          "execution_count": 199
        }
      ]
    },
    {
      "cell_type": "markdown",
      "source": [
        "# ECLAT DENSITY"
      ],
      "metadata": {
        "id": "mXw-_m8FjjJv"
      }
    },
    {
      "cell_type": "code",
      "source": [
        "#eclat density\n",
        "\n",
        "runtime_eclat_density = []\n",
        "min_supporto = [0.04, 0.08, 0.12, 0.16, 0.2, 0.24, 0.28]\n",
        "for i in range(len(density_dataset)):\n",
        "  dataset = pd.read_csv(density_dataset[i])\n",
        "\n",
        "# I want the dataset to be a np.array\n",
        "  dataset_array = np.array(dataset)\n",
        "  \n",
        "\n",
        "  minsup = min_supporto[i]\n",
        "\n",
        "# since the array contains baskets with only a string of element and not a list of elements, I need to fix this thing\n",
        "  new_array = []\n",
        "  for i in range(len(dataset_array)):\n",
        "      split_elements = np.char.split(dataset_array[i].astype(str))\n",
        "      ok_split_elements = (split_elements[0])\n",
        "      new_array.append(ok_split_elements)\n",
        "  # Dataset\n",
        "  dataset = new_array\n",
        "# Main function\n",
        "  if __name__ == '__main__':\n",
        "    # Call find_frequent_itemsets() to generate frequent itemsets\n",
        "    \n",
        "      \n",
        "      items = {}\n",
        "\n",
        "      for transaction_id, transaction in enumerate(dataset):\n",
        "          for item in transaction:\n",
        "              if item in items:\n",
        "                items[item].add(transaction_id)\n",
        "              else:\n",
        "                items[item] = {transaction_id}\n",
        "      \n",
        "    # Convert the dictionary items into a list of tuples\n",
        "      items = [(item, itids) for item, itids in items.items()]\n",
        "    \n",
        "      start = time.time()\n",
        "      cnt = len(dataset)\n",
        "      \n",
        "    # Function call to start ECLAT algorithm\n",
        "      eclat([], sorted(items, key=lambda item: len(item[1]), reverse=True), 1, minsup, cnt)\n",
        "\n",
        "      end = time.time()\n",
        "      result_time = end - start\n",
        "\n",
        "      runtime_eclat_density.append(result_time)\n",
        "\n"
      ],
      "metadata": {
        "id": "d_jTWzpCgKUZ"
      },
      "execution_count": null,
      "outputs": []
    },
    {
      "cell_type": "code",
      "source": [
        "runtime_eclat_density"
      ],
      "metadata": {
        "colab": {
          "base_uri": "https://localhost:8080/"
        },
        "id": "8DyjZRNMjJFn",
        "outputId": "7ef487ac-aeab-45a0-9ed3-c9146daa5ccf"
      },
      "execution_count": 169,
      "outputs": [
        {
          "output_type": "execute_result",
          "data": {
            "text/plain": [
              "[1.2941968441009521,\n",
              " 1.3215699195861816,\n",
              " 5.478350639343262,\n",
              " 2.813875198364258,\n",
              " 2.890443801879883,\n",
              " 2.1703035831451416,\n",
              " 5.890897487878674]"
            ]
          },
          "metadata": {},
          "execution_count": 169
        }
      ]
    },
    {
      "cell_type": "markdown",
      "source": [
        "# RESULTS"
      ],
      "metadata": {
        "id": "HVcLTVBfm2eg"
      }
    },
    {
      "cell_type": "markdown",
      "source": [
        "# RESULTS"
      ],
      "metadata": {
        "id": "W1S4D7wwj2Tv"
      }
    },
    {
      "cell_type": "code",
      "source": [
        "#density\n",
        "\n",
        "plt.plot(runtime_eclat_density, label='eclat')\n",
        "plt.plot(runtime_apriori_density, label='apriori')\n",
        "plt.plot(runtime_fpgrowth_density, label='fp-growth')\n",
        "plt.legend()\n",
        "plt.show()\n"
      ],
      "metadata": {
        "colab": {
          "base_uri": "https://localhost:8080/",
          "height": 430
        },
        "id": "SZ2wVdoWg3D8",
        "outputId": "2d9f0675-bc9a-436c-bca7-78b111067580"
      },
      "execution_count": 214,
      "outputs": [
        {
          "output_type": "display_data",
          "data": {
            "text/plain": [
              "<Figure size 640x480 with 1 Axes>"
            ],
            "image/png": "[encoded data removed]"
          },
          "metadata": {}
        }
      ]
    },
    {
      "cell_type": "code",
      "source": [
        "# size\n",
        "\n",
        "plt.plot(runtime_eclat, label='eclat')\n",
        "plt.plot(runtime_apriori, label='apriori', linestyle='-.')\n",
        "plt.plot(runtime_fpgrowth, label='fp-growth')\n",
        "\n",
        "plt.legend()\n",
        "plt.show()\n"
      ],
      "metadata": {
        "colab": {
          "base_uri": "https://localhost:8080/",
          "height": 430
        },
        "id": "ua4BJJgnNB7v",
        "outputId": "a67e01c0-5700-4543-f02b-06967a72025b"
      },
      "execution_count": 212,
      "outputs": [
        {
          "output_type": "display_data",
          "data": {
            "text/plain": [
              "<Figure size 640x480 with 1 Axes>"
            ],
            "image/png": "[encoded data removed]"
          },
          "metadata": {}
        }
      ]
    }
  ]
}